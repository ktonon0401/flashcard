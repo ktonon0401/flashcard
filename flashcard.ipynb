{
  "cells": [
    {
      "cell_type": "markdown",
      "metadata": {
        "id": "view-in-github",
        "colab_type": "text"
      },
      "source": [
        "<a href=\"https://colab.research.google.com/github/ktonon0401/flashcard/blob/master/flashcard.ipynb\" target=\"_parent\"><img src=\"https://colab.research.google.com/assets/colab-badge.svg\" alt=\"Open In Colab\"/></a>"
      ]
    },
    {
      "cell_type": "markdown",
      "metadata": {
        "id": "f8w7Jf9H-NNW"
      },
      "source": [
        "**CODE**"
      ]
    },
    {
      "cell_type": "code",
      "execution_count": 55,
      "metadata": {
        "colab": {
          "base_uri": "https://localhost:8080/"
        },
        "id": "JLQtQp90eVQa",
        "outputId": "ef91c3bf-e18d-4296-d645-499ab0ebfc71"
      },
      "outputs": [
        {
          "output_type": "stream",
          "name": "stdout",
          "text": [
            "Looking in indexes: https://pypi.org/simple, https://us-python.pkg.dev/colab-wheels/public/simple/\n",
            "Requirement already satisfied: gTTS in /usr/local/lib/python3.10/dist-packages (2.3.2)\n",
            "Requirement already satisfied: playsound in /usr/local/lib/python3.10/dist-packages (1.3.0)\n",
            "Requirement already satisfied: requests<3,>=2.27 in /usr/local/lib/python3.10/dist-packages (from gTTS) (2.27.1)\n",
            "Requirement already satisfied: click<8.2,>=7.1 in /usr/local/lib/python3.10/dist-packages (from gTTS) (8.1.3)\n",
            "Requirement already satisfied: urllib3<1.27,>=1.21.1 in /usr/local/lib/python3.10/dist-packages (from requests<3,>=2.27->gTTS) (1.26.15)\n",
            "Requirement already satisfied: certifi>=2017.4.17 in /usr/local/lib/python3.10/dist-packages (from requests<3,>=2.27->gTTS) (2022.12.7)\n",
            "Requirement already satisfied: charset-normalizer~=2.0.0 in /usr/local/lib/python3.10/dist-packages (from requests<3,>=2.27->gTTS) (2.0.12)\n",
            "Requirement already satisfied: idna<4,>=2.5 in /usr/local/lib/python3.10/dist-packages (from requests<3,>=2.27->gTTS) (3.4)\n"
          ]
        }
      ],
      "source": [
        "pip install gTTS playsound"
      ]
    },
    {
      "cell_type": "code",
      "execution_count": 56,
      "metadata": {
        "id": "lrD84HT5BE72"
      },
      "outputs": [],
      "source": [
        "import csv \n",
        "import time\n",
        "import os\n",
        "import random\n",
        "from IPython.display import clear_output, display, Audio\n",
        "from gtts import gTTS\n",
        "from playsound import playsound"
      ]
    },
    {
      "cell_type": "code",
      "execution_count": 57,
      "metadata": {
        "id": "K7mo1A0OOh9Q"
      },
      "outputs": [],
      "source": [
        "def read_csv():\n",
        "  with open('vocab_1.csv', 'r',encoding='utf-8-sig') as f:\n",
        "    reader = csv.reader(f)\n",
        "    data = list(reader)\n",
        "  return data"
      ]
    },
    {
      "cell_type": "code",
      "execution_count": 58,
      "metadata": {
        "id": "OfYccGMAabSz"
      },
      "outputs": [],
      "source": [
        "def speech_to_text():\n",
        "  clear_output(wait=True)\n",
        "  data=read_csv()\n",
        "  data_num=len(data)\n",
        "  correct=[]\n",
        "  incorrect=[]\n",
        "  for i in range(data_num):\n",
        "    speech=gTTS(text=data[i+1][0],lang='en')\n",
        "    speech.save('speech.mp3')\n",
        "    display(Audio('speech.mp3',autoplay=True))\n",
        "    answer=str(input())\n",
        "    if answer==data[i+1][0]:\n",
        "      correct.append(answer)\n",
        "    else:\n",
        "      incorrect.append(answer)\n",
        "  print('Correct:',len(correct),'\\n','Your answer:',correct)\n",
        "  print('\\n')\n",
        "  print('Incorrect:',len(incorrect),'\\n','Your answer:',incorrect)"
      ]
    },
    {
      "cell_type": "code",
      "source": [
        "# Random question\n",
        "def speech_to_text_random():\n",
        "  clear_output(wait=True)\n",
        "  data=read_csv()\n",
        "  data_num=len(data)\n",
        "  nums = list(range(0,data_num))\n",
        "  random.shuffle(nums)\n",
        "  correct=[]\n",
        "  incorrect=[]\n",
        "  for i in range(data_num):\n",
        "    speech=gTTS(text=data[nums[i+1]][0],lang='en')\n",
        "    speech.save('speech.mp3')\n",
        "    display(Audio('speech.mp3',autoplay=True))\n",
        "    answer=str(input())\n",
        "    if answer==data[nums[i+1]][0]:\n",
        "      correct.append(answer)\n",
        "    else:\n",
        "      incorrect.append(answer)\n",
        "  print('Correct:',len(correct),'\\n','Your answer:',correct)\n",
        "  print('\\n')\n",
        "  print('Incorrect:',len(incorrect),'\\n','Your answer:',incorrect)"
      ],
      "metadata": {
        "id": "RrzO4YF7lB1H"
      },
      "execution_count": 59,
      "outputs": []
    },
    {
      "cell_type": "code",
      "execution_count": 60,
      "metadata": {
        "id": "XCv-NA1R5L8I"
      },
      "outputs": [],
      "source": [
        "def en_to_vn():\n",
        "  clear_output(wait=True)\n",
        "  data=read_csv()\n",
        "  data_num=len(data)\n",
        "  correct=[]\n",
        "  incorrect=[]\n",
        "  for i in range(data_num):\n",
        "    print(data[i+1][0])\n",
        "    answer=str(input())\n",
        "    clear_output(wait=True)\n",
        "    if answer==data[i+1][1]:\n",
        "      correct.append(answer)\n",
        "    else:\n",
        "      incorrect.append(answer)\n",
        "  print('Correct:',len(correct),'\\n','Your answer:',correct)\n",
        "  print('\\n')\n",
        "  print('Incorrect:',len(incorrect),'\\n','Your answer:',incorrect)"
      ]
    },
    {
      "cell_type": "code",
      "source": [
        "\"\"\"# TEST RANDOM MODULE\n",
        "import random\n",
        "nums = list(range(1, 100)) # list of integers from 1 to 99\n",
        "                           # adjust this boundaries to fit your needs\n",
        "random.shuffle(nums)\n",
        "print(nums)\"\"\""
      ],
      "metadata": {
        "id": "4tV32pPbePw4",
        "colab": {
          "base_uri": "https://localhost:8080/",
          "height": 53
        },
        "outputId": "62c252d6-cc49-4590-ba60-b2e695a33014"
      },
      "execution_count": 61,
      "outputs": [
        {
          "output_type": "execute_result",
          "data": {
            "text/plain": [
              "'# TEST RANDOM MODULE\\nimport random\\nnums = list(range(1, 100)) # list of integers from 1 to 99\\n                           # adjust this boundaries to fit your needs\\nrandom.shuffle(nums)\\nprint(nums)'"
            ],
            "application/vnd.google.colaboratory.intrinsic+json": {
              "type": "string"
            }
          },
          "metadata": {},
          "execution_count": 61
        }
      ]
    },
    {
      "cell_type": "code",
      "source": [
        "# Random question\n",
        "def en_to_vn_random():\n",
        "  clear_output(wait=True)\n",
        "  data=read_csv()\n",
        "  data_num=len(data)\n",
        "  nums = list(range(0,data_num))\n",
        "  random.shuffle(nums)\n",
        "  correct=[]\n",
        "  incorrect=[]\n",
        "  for i in range(data_num):\n",
        "    print(data[nums[i+1]][0])\n",
        "    answer=str(input())\n",
        "    clear_output(wait=True)\n",
        "    if answer==data[nums[i+1]][1]:\n",
        "      correct.append(answer)\n",
        "    else:\n",
        "      incorrect.append(answer)\n",
        "  print('Correct:',len(correct),'\\n','Your answer:',correct)\n",
        "  print('\\n')\n",
        "  print('Incorrect:',len(incorrect),'\\n','Your answer:',incorrect)"
      ],
      "metadata": {
        "id": "3ib-VHHK8Vwh"
      },
      "execution_count": 62,
      "outputs": []
    },
    {
      "cell_type": "code",
      "execution_count": 63,
      "metadata": {
        "id": "1lDai1pdDqc0"
      },
      "outputs": [],
      "source": [
        "def vn_to_en():\n",
        "  clear_output(wait=True)\n",
        "  data=read_csv()\n",
        "  data_num=len(data)\n",
        "  correct=[]\n",
        "  incorrect=[]\n",
        "  for i in range(data_num):\n",
        "    print(data[i+1][1])\n",
        "    answer=str(input())\n",
        "    clear_output(wait=True)\n",
        "    if answer==data[i+1][0]:\n",
        "      correct.append(answer)\n",
        "    else:\n",
        "      incorrect.append(answer)\n",
        "  print('Correct:',len(correct),'\\n','Your answer:',correct)\n",
        "  print('\\n')\n",
        "  print('Incorrect:',len(incorrect),'\\n','Your answer:',incorrect)"
      ]
    },
    {
      "cell_type": "code",
      "source": [
        "# Random question\n",
        "def vn_to_en_random():\n",
        "  clear_output(wait=True)\n",
        "  data=read_csv()\n",
        "  data_num=len(data)\n",
        "  nums = list(range(0,data_num))\n",
        "  random.shuffle(nums)\n",
        "  correct=[]\n",
        "  incorrect=[]\n",
        "  for i in range(data_num):\n",
        "    print(data[nums[i+1]][1])\n",
        "    answer=str(input())\n",
        "    clear_output(wait=True)\n",
        "    if answer==data[nums[i+1]][0]:\n",
        "      correct.append(answer)\n",
        "    else:\n",
        "      incorrect.append(answer)\n",
        "  print('Correct:',len(correct),'\\n','Your answer:',correct)\n",
        "  print('\\n')\n",
        "  print('Incorrect:',len(incorrect),'\\n','Your answer:',incorrect)"
      ],
      "metadata": {
        "id": "jbQaoGLbllyT"
      },
      "execution_count": 64,
      "outputs": []
    },
    {
      "cell_type": "code",
      "execution_count": 65,
      "metadata": {
        "id": "ChMdrq0Taxw2"
      },
      "outputs": [],
      "source": [
        "def choice():\n",
        "  op1=\"  1      Speech to Text\"\n",
        "  op2=\"  2      English to Vietnamese\"\n",
        "  op3=\"  3      Vietnamses to English\"\n",
        "  op4=\"  4      Exit\"\n",
        "  while 1:\n",
        "    clear_output(wait=True)\n",
        "    print('\\t\\tMENU','\\n','=============================','\\n',op1,'\\n',op2,'\\n',op3,'\\n',op4,'\\n','=============================')\n",
        "    first_choice=input(\"Your choice (1 or 2 or 3 or 4):\")\n",
        "    print(' 1. Standard','\\n','2. Random')\n",
        "    second_choice=input(\"Your choice (1 or 2):\")\n",
        "    if first_choice=='1':\n",
        "      if second_choice=='1':\n",
        "        return speech_to_text()\n",
        "      elif second_choice=='2':\n",
        "        return speech_to_text_random()\n",
        "    elif first_choice=='2':\n",
        "      if second_choice=='1':\n",
        "        return en_to_vn()\n",
        "      elif second_choice=='2':\n",
        "        return en_to_vn_random()\n",
        "    elif first_choice=='3':\n",
        "      if second_choice=='1':\n",
        "        return vn_to_en()\n",
        "      elif second_choice=='2':\n",
        "        return vn_to_en_random()\n",
        "    elif first_choice=='4':\n",
        "      clear_output(wait=True)\n",
        "      break\n",
        "    else:\n",
        "      continue\n",
        "    "
      ]
    },
    {
      "cell_type": "markdown",
      "metadata": {
        "id": "-ivSzY2P9mX_"
      },
      "source": [
        "**START TEST**\n",
        "\n",
        "type: *choice()* to start"
      ]
    },
    {
      "cell_type": "code",
      "execution_count": null,
      "metadata": {
        "id": "MmO1l4hT9e9O"
      },
      "outputs": [],
      "source": [
        "choice()"
      ]
    },
    {
      "cell_type": "code",
      "source": [],
      "metadata": {
        "id": "ToPqIuZ1idB8"
      },
      "execution_count": null,
      "outputs": []
    }
  ],
  "metadata": {
    "colab": {
      "provenance": [],
      "mount_file_id": "1OIURck0i_ax-Xgax4Q6ljeiFPqm2hvR1",
      "authorship_tag": "ABX9TyNNelqZsTrsLmvQxAWlE9UU",
      "include_colab_link": true
    },
    "kernelspec": {
      "display_name": "Python 3",
      "name": "python3"
    },
    "language_info": {
      "name": "python"
    }
  },
  "nbformat": 4,
  "nbformat_minor": 0
}