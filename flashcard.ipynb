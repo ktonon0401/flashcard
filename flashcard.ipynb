{
  "cells": [
    {
      "cell_type": "markdown",
      "metadata": {
        "id": "view-in-github",
        "colab_type": "text"
      },
      "source": [
        "<a href=\"https://colab.research.google.com/github/ktonon0401/flashcard/blob/master/flashcard.ipynb\" target=\"_parent\"><img src=\"https://colab.research.google.com/assets/colab-badge.svg\" alt=\"Open In Colab\"/></a>"
      ]
    },
    {
      "cell_type": "markdown",
      "metadata": {
        "id": "f8w7Jf9H-NNW"
      },
      "source": [
        "**CODE**"
      ]
    },
    {
      "cell_type": "code",
      "execution_count": 10,
      "metadata": {
        "colab": {
          "base_uri": "https://localhost:8080/"
        },
        "id": "JLQtQp90eVQa",
        "outputId": "d4816ad4-c331-490d-f146-5ac030e3dec5"
      },
      "outputs": [
        {
          "output_type": "stream",
          "name": "stdout",
          "text": [
            "Looking in indexes: https://pypi.org/simple, https://us-python.pkg.dev/colab-wheels/public/simple/\n",
            "Requirement already satisfied: gTTS in /usr/local/lib/python3.10/dist-packages (2.3.2)\n",
            "Requirement already satisfied: playsound in /usr/local/lib/python3.10/dist-packages (1.3.0)\n",
            "Requirement already satisfied: requests<3,>=2.27 in /usr/local/lib/python3.10/dist-packages (from gTTS) (2.27.1)\n",
            "Requirement already satisfied: click<8.2,>=7.1 in /usr/local/lib/python3.10/dist-packages (from gTTS) (8.1.3)\n",
            "Requirement already satisfied: urllib3<1.27,>=1.21.1 in /usr/local/lib/python3.10/dist-packages (from requests<3,>=2.27->gTTS) (1.26.15)\n",
            "Requirement already satisfied: certifi>=2017.4.17 in /usr/local/lib/python3.10/dist-packages (from requests<3,>=2.27->gTTS) (2022.12.7)\n",
            "Requirement already satisfied: charset-normalizer~=2.0.0 in /usr/local/lib/python3.10/dist-packages (from requests<3,>=2.27->gTTS) (2.0.12)\n",
            "Requirement already satisfied: idna<4,>=2.5 in /usr/local/lib/python3.10/dist-packages (from requests<3,>=2.27->gTTS) (3.4)\n"
          ]
        }
      ],
      "source": [
        "pip install gTTS playsound"
      ]
    },
    {
      "cell_type": "code",
      "execution_count": 11,
      "metadata": {
        "id": "lrD84HT5BE72"
      },
      "outputs": [],
      "source": [
        "import csv \n",
        "import time\n",
        "import os\n",
        "import random\n",
        "from IPython.display import clear_output, display, Audio\n",
        "from gtts import gTTS\n",
        "from playsound import playsound"
      ]
    },
    {
      "cell_type": "code",
      "execution_count": 12,
      "metadata": {
        "id": "K7mo1A0OOh9Q"
      },
      "outputs": [],
      "source": [
        "def read_csv():\n",
        "  with open('vocab_1.csv', 'r',encoding='utf-8-sig') as f:\n",
        "    reader = csv.reader(f)\n",
        "    data = list(reader)\n",
        "  return data"
      ]
    },
    {
      "cell_type": "code",
      "execution_count": 19,
      "metadata": {
        "id": "OfYccGMAabSz"
      },
      "outputs": [],
      "source": [
        "def speech_to_text():\n",
        "  clear_output(wait=True)\n",
        "  data=read_csv()\n",
        "  data_num=len(data)\n",
        "  correct=[]\n",
        "  incorrect=[]\n",
        "  for i in range(data_num-1):\n",
        "    speech=gTTS(text=data[i+1][0],lang='en')\n",
        "    speech.save('speech.mp3')\n",
        "    display(Audio('speech.mp3',autoplay=True))\n",
        "    answer=str(input())\n",
        "    if answer==data[i+1][0]:\n",
        "      correct.append(answer)\n",
        "    else:\n",
        "      incorrect.append(answer)\n",
        "  print('Correct:',len(correct),'\\n','Your answer:',correct)\n",
        "  print('\\n')\n",
        "  print('Incorrect:',len(incorrect),'\\n','Your answer:',incorrect)\n",
        "  \n",
        "# Random question\n",
        "def speech_to_text_random():\n",
        "  clear_output(wait=True)\n",
        "  data=read_csv()\n",
        "  data_num=len(data)\n",
        "  nums = list(range(0,data_num))\n",
        "  random.shuffle(nums)\n",
        "  correct=[]\n",
        "  incorrect=[]\n",
        "  for i in range(data_num-1):\n",
        "    speech=gTTS(text=data[nums[i+1]][0],lang='en')\n",
        "    speech.save('speech.mp3')\n",
        "    display(Audio('speech.mp3',autoplay=True))\n",
        "    answer=str(input())\n",
        "    if answer==data[nums[i+1]][0]:\n",
        "      correct.append(answer)\n",
        "    else:\n",
        "      incorrect.append(answer)\n",
        "  print('Correct:',len(correct),'\\n','Your answer:',correct)\n",
        "  print('\\n')\n",
        "  print('Incorrect:',len(incorrect),'\\n','Your answer:',incorrect)"
      ]
    },
    {
      "cell_type": "code",
      "source": [],
      "metadata": {
        "id": "RrzO4YF7lB1H"
      },
      "execution_count": 13,
      "outputs": []
    },
    {
      "cell_type": "code",
      "execution_count": 14,
      "metadata": {
        "id": "XCv-NA1R5L8I"
      },
      "outputs": [],
      "source": [
        "def en_to_vn():\n",
        "  clear_output(wait=True)\n",
        "  data=read_csv()\n",
        "  data_num=len(data)\n",
        "  correct=[]\n",
        "  incorrect=[]\n",
        "  for i in range(data_num-1):\n",
        "    print(data[i+1][0])\n",
        "    answer=str(input())\n",
        "    clear_output(wait=True)\n",
        "    if answer==data[i+1][1]:\n",
        "      correct.append(answer)\n",
        "    else:\n",
        "      incorrect.append(answer)\n",
        "  print('Correct:',len(correct),'\\n','Your answer:',correct)\n",
        "  print('\\n')\n",
        "  print('Incorrect:',len(incorrect),'\\n','Your answer:',incorrect)\n",
        "  \n",
        "# Random question\n",
        "def en_to_vn_random():\n",
        "  clear_output(wait=True)\n",
        "  data=read_csv()\n",
        "  data_num=len(data)\n",
        "  nums = list(range(0,data_num))\n",
        "  random.shuffle(nums)\n",
        "  correct=[]\n",
        "  incorrect=[]\n",
        "  for i in range(data_num-1):\n",
        "    print(data[nums[i+1]][0])\n",
        "    answer=str(input())\n",
        "    clear_output(wait=True)\n",
        "    if answer==data[nums[i+1]][1]:\n",
        "      correct.append(answer)\n",
        "    else:\n",
        "      incorrect.append(answer)\n",
        "  print('Correct:',len(correct),'\\n','Your answer:',correct)\n",
        "  print('\\n')\n",
        "  print('Incorrect:',len(incorrect),'\\n','Your answer:',incorrect)"
      ]
    },
    {
      "cell_type": "code",
      "source": [],
      "metadata": {
        "id": "tnyeM0_dS0l7"
      },
      "execution_count": 14,
      "outputs": []
    },
    {
      "cell_type": "code",
      "source": [
        "\"\"\"# TEST RANDOM MODULE\n",
        "import random\n",
        "nums = list(range(1, 100)) # list of integers from 1 to 99\n",
        "                           # adjust this boundaries to fit your needs\n",
        "random.shuffle(nums)\n",
        "print(nums)\"\"\""
      ],
      "metadata": {
        "id": "4tV32pPbePw4",
        "colab": {
          "base_uri": "https://localhost:8080/",
          "height": 53
        },
        "outputId": "d896975e-d4c0-4da8-e9dd-67ca21b57944"
      },
      "execution_count": 15,
      "outputs": [
        {
          "output_type": "execute_result",
          "data": {
            "text/plain": [
              "'# TEST RANDOM MODULE\\nimport random\\nnums = list(range(1, 100)) # list of integers from 1 to 99\\n                           # adjust this boundaries to fit your needs\\nrandom.shuffle(nums)\\nprint(nums)'"
            ],
            "application/vnd.google.colaboratory.intrinsic+json": {
              "type": "string"
            }
          },
          "metadata": {},
          "execution_count": 15
        }
      ]
    },
    {
      "cell_type": "code",
      "source": [],
      "metadata": {
        "id": "3ib-VHHK8Vwh"
      },
      "execution_count": 15,
      "outputs": []
    },
    {
      "cell_type": "code",
      "execution_count": 16,
      "metadata": {
        "id": "1lDai1pdDqc0"
      },
      "outputs": [],
      "source": [
        "def vn_to_en():\n",
        "  clear_output(wait=True)\n",
        "  data=read_csv()\n",
        "  data_num=len(data)\n",
        "  correct=[]\n",
        "  incorrect=[]\n",
        "  for i in range(data_num-1):\n",
        "    print(data[i+1][1])\n",
        "    answer=str(input())\n",
        "    clear_output(wait=True)\n",
        "    if answer==data[i+1][0]:\n",
        "      correct.append(answer)\n",
        "    else:\n",
        "      incorrect.append(answer)\n",
        "  print('Correct:',len(correct),'\\n','Your answer:',correct)\n",
        "  print('\\n')\n",
        "  print('Incorrect:',len(incorrect),'\\n','Your answer:',incorrect)\n",
        "\n",
        "# Random question\n",
        "def vn_to_en_random():\n",
        "  clear_output(wait=True)\n",
        "  data=read_csv()\n",
        "  data_num=len(data)\n",
        "  nums = list(range(0,data_num))\n",
        "  random.shuffle(nums)\n",
        "  correct=[]\n",
        "  incorrect=[]\n",
        "  for i in range(data_num-1):\n",
        "    print(data[nums[i+1]][1])\n",
        "    answer=str(input())\n",
        "    clear_output(wait=True)\n",
        "    if answer==data[nums[i+1]][0]:\n",
        "      correct.append(answer)\n",
        "    else:\n",
        "      incorrect.append(answer)\n",
        "  print('Correct:',len(correct),'\\n','Your answer:',correct)\n",
        "  print('\\n')\n",
        "  print('Incorrect:',len(incorrect),'\\n','Your answer:',incorrect)"
      ]
    },
    {
      "cell_type": "code",
      "source": [],
      "metadata": {
        "id": "jbQaoGLbllyT"
      },
      "execution_count": 16,
      "outputs": []
    },
    {
      "cell_type": "code",
      "execution_count": 20,
      "metadata": {
        "id": "ChMdrq0Taxw2"
      },
      "outputs": [],
      "source": [
        "def choice():\n",
        "  op1=\"  1      Speech to Text\"\n",
        "  op2=\"  2      English to Vietnamese\"\n",
        "  op3=\"  3      Vietnamses to English\"\n",
        "  op4=\"  4      Exit\"\n",
        "  while 1:\n",
        "    clear_output(wait=True)\n",
        "    print('\\t\\tMENU','\\n','=================================','\\n',op1,'\\n',op2,'\\n',op3,'\\n',op4,'\\n','=================================')\n",
        "    first_choice=input(\"Your choice (1 or 2 or 3 or 4):\")\n",
        "    print(' 1. Standard','\\n','2. Random')\n",
        "    second_choice=input(\"Your choice (1 or 2):\")\n",
        "    if first_choice=='1':\n",
        "      if second_choice=='1':\n",
        "        return speech_to_text()\n",
        "      elif second_choice=='2':\n",
        "        return speech_to_text_random()\n",
        "    elif first_choice=='2':\n",
        "      if second_choice=='1':\n",
        "        return en_to_vn()\n",
        "      elif second_choice=='2':\n",
        "        return en_to_vn_random()\n",
        "    elif first_choice=='3':\n",
        "      if second_choice=='1':\n",
        "        return vn_to_en()\n",
        "      elif second_choice=='2':\n",
        "        return vn_to_en_random()\n",
        "    elif first_choice=='4':\n",
        "      clear_output(wait=True)\n",
        "      break\n",
        "    else:\n",
        "      continue\n",
        "    "
      ]
    },
    {
      "cell_type": "markdown",
      "metadata": {
        "id": "-ivSzY2P9mX_"
      },
      "source": [
        "**START TEST**\n",
        "\n",
        "type: *choice()* to start"
      ]
    },
    {
      "cell_type": "code",
      "execution_count": 21,
      "metadata": {
        "colab": {
          "base_uri": "https://localhost:8080/",
          "height": 1000
        },
        "id": "MmO1l4hT9e9O",
        "outputId": "b04a671f-3d43-4e33-bc34-b25788b5e04a"
      },
      "outputs": [
        {
          "output_type": "display_data",
          "data": {
            "text/plain": [
              "<IPython.lib.display.Audio object>"
            ],
            "text/html": [
              "\n",
              "                <audio  controls=\"controls\" autoplay=\"autoplay\">\n",
              "                    <source src=\"data:audio/mpeg;base64,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\" type=\"audio/mpeg\" />\n",
              "                    Your browser does not support the audio element.\n",
              "                </audio>\n",
              "              "
            ]
          },
          "metadata": {}
        },
        {
          "name": "stdout",
          "output_type": "stream",
          "text": [
            "23\n"
          ]
        },
        {
          "output_type": "display_data",
          "data": {
            "text/plain": [
              "<IPython.lib.display.Audio object>"
            ],
            "text/html": [
              "\n",
              "                <audio  controls=\"controls\" autoplay=\"autoplay\">\n",
              "                    <source src=\"data:audio/mpeg;base64,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\" type=\"audio/mpeg\" />\n",
              "                    Your browser does not support the audio element.\n",
              "                </audio>\n",
              "              "
            ]
          },
          "metadata": {}
        },
        {
          "name": "stdout",
          "output_type": "stream",
          "text": [
            "ewdfe\n"
          ]
        },
        {
          "output_type": "display_data",
          "data": {
            "text/plain": [
              "<IPython.lib.display.Audio object>"
            ],
            "text/html": [
              "\n",
              "                <audio  controls=\"controls\" autoplay=\"autoplay\">\n",
              "                    <source src=\"data:audio/mpeg;base64,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\" type=\"audio/mpeg\" />\n",
              "                    Your browser does not support the audio element.\n",
              "                </audio>\n",
              "              "
            ]
          },
          "metadata": {}
        },
        {
          "name": "stdout",
          "output_type": "stream",
          "text": [
            "wer\n"
          ]
        },
        {
          "output_type": "display_data",
          "data": {
            "text/plain": [
              "<IPython.lib.display.Audio object>"
            ],
            "text/html": [
              "\n",
              "                <audio  controls=\"controls\" autoplay=\"autoplay\">\n",
              "                    <source src=\"data:audio/mpeg;base64,//NExAAQ4AXUAUEQAAAgCBz1AmD4Pg+D4IAgCAIAmD4Pg+D4IAgCBz/////8ocKAgCAPg+D4Pg4CAIAgCAPg+D5/5yoEATB8HwfB8EAQBAEF/zGw8tecaRBgN/Er2gP8//NExA8WKvo8AZs4AdM/33fuXRfhgfJjQkJfkDDHHxKFgkfMMPeK2NGpn/7jrHob/Y88y81SlTv/zG9B6VLOprJ/+Y1f9DR9jzKTTE////Pf8kxTy006mvDZE5rbJKJO//NExAkTibKcAY+AAJpJ62h8BDEMpuXyJChCKkQFoIOXzciACuP5DxkRChBCKjlNTyulTUWzZClQbpMt0GXZv/VZ1f1f+9ZneAqr/yfx7///xtUgQusuxT6ZKJIIhDCt//NExA0VeR6QAcxgAD3crXZ9craEIfSuELqGSDgP4DssN4qgjSUxJ3XX3q9aF+1q0+LOyaTkRx5SJyEPvGOcgUBxVBom4AKPAIaXJuyHTrZu+mnqdygHso0cAAc5AwOF//NExAoVGQaYADJYcJafv54ZV7FckZaUGyA+TB+EslGcImoTB2383nVtHprfGJdjp1XOMg0FQSQwQFSwkPnkLhoJKiyIAPvB95qMehlu9LLU/9kc3fbi9ZmXXo21YiSO//NExAgUgNqcAM4ecMkZbArutOAxBjuTTfme4wBBeLy+ckcsf+Vz9HIH/eB3LDkuDjPkBvJ2tsGlwEcFgZl2+oPsXNLMkoIgM8l9T2K/s8CHH6lqY6iT5zeE2wADSXUt//NExAkTceKoANYamP1FMjE1nyo71uSDF1v2v/68Of/N1X/z3zeTkPNVx+PDIAqGTWsKkfRsyocNVmxhOykaLmZo3/t/9VutD5fT9f1P51S4mT3WPwFzOp3NRxoHJLct//NExA4R+Ra4AJYYcM7AKdjTLH/uI0lv//lZyky0fOv/Q6BIoDuZvslUGpWJh/90gVFBfH2QsQr32Ne//Q4CCgiO+KVoGRhLmAz4NPh200HL4uUDILRiupZiWBBMZBtZ//NExBkSGTK0AJ0YcERyip9n6fM2aPjzsypFCwfKS6hOHyjuTGQlIbm9axWM6dM6wUdGOmaCqdueoKuyVd4c7TjqzI5lMMvLGGckKDqxe073mc2sKxGiz7upQ/n/4snK//NExCMScT6kAMYYcNzqZUxUuShKxNAie9l/1a7v/NbWt2TLJjFdr4Tk9qtATbQMp9uSpe2v5df1HUPJRzMojpEAH4EYRSWZF4dZxFFqRGHUknzm8+50pVySVCIGh9s1//NExCwRWTqsAMRWcC5/uuYj+olS2OmiUPjVDwspggF22Vr56QGKw7/1G7gG6QNjkqjIJaf0qt4kwQAW1XlsC5uERRZv88VlEc8GgBmjgymhEp6b//qNJjW5HuAr+pe3//NExDkQkUq0AMIQlCaJRX/////5Sir+87SCo8IAR+971CIcEwBY1DMY0Hw9S9AfD0VtXEk1cuYzM+QeHroMAAeKiJZxjlvr7G66CQeDyjzP6W1//5VIUgscPus///////NExEkSgcqsANIKlOnDv4MYMnQ5tjKJqpFhIdVl11l2yJmHua/9X6Wt+4FW////9XMv////52Epl2Plz8gHkQwo/BDWH8gUBAEAz2ggQPl5Bip+IIBJ5pUemHP//v////NExFIRMcqoAMDElP/////Pr////0ZWVf2qtXui5zsqVnM6UEzM0h3cw+zNdJmUQI49hEPCgiw0QMHQiAwCnQAw8ODoiEFFEgf//////6/////l////+tXd10ZP2NSv//NExGASMxqwAFBKvDbHXetL0WiVIlzTHZsVE2JHlSJ000uVOOG4qGomEIImjUKCQKBYxQUiY4TEJBH///////B/////////+3e+/3RHdUM+fc6d0Q2atjdaOeSlCpYw//NExGoRAxqsAAhOvZzmOdycakhhUmLjBRYGJGF6HR4KBINGYsCLYTCgqmi0QvUJv///////////+7r////tV+/ZFz6Leaf89Damotz7mIPuxAsjsxJEHDxQpw2eeJBY//NExHkR2yKoABBUvG5pQWDZBkw89xYRMEcRwiFJIFxMFpgaKqon/2BL/fn//5f/l//tf///////H/L7dcfp/f/NXxVXDxzdS9TrDC9DDxmtw985VXaQJTWG2wsWEwuK//NExIQSax6oAChOvYlFBGPErBwxJhtArUePD4Py1tb3DV8I5EIL+DkDUAXB0MbnvHRVgBN5nweNzTjP8v//Vn///////+1XrM61zG1L8y07/RkepShWUtjGUqFmMYMB//NExI0S8yKsAAhQvAYCYqOFIBOSiU9cSfGpUxW1Z+NgOIicFOD8Fk+rlfDsre/ne0eP15RlunrTraWuLCrkR4AwxYJilqaOW/b1+bzlmJn2N0/iPiwYTR1+EUiELhH///NExJQSQxasAHhEuf9X//+9Sl29q6KpXrcpwvFxbSS59oIgKIBy6EYq3pmvTDP6+dk1yvChIKyaSwcF52Umtm3XdRb452823YVI60jHf/Kh//9n////qUrPVOCD1/yh//NExJ4UaSqgAM5YcKOYxUXgMK1h4IQPkMW9Amv3m16kclB7ZrRJZzMdzrQDyaukPU1UvZaO1SCOjWtRtNySPqQz/80Y//////83jGcTBNmTYCFYLbADGwN1XMIbLDuO//NExJ8RGTasAMJWcFVEh7C1FFdWu6KUzlKVhoAkZy99H//7Zf1///9qt/1//RtP+lP17/kzv2qc6JY7oxzpJFojOggiY45ugKJWTl1MWAnWWam66+Pynfe/y/////5n//NExK0ROTKkAMracP/r1b1O1u2nQXX22UyCCbJpKWyabGZsyqjBFF3QZSD1OtNA+nUswLVl10h7nCWKRqT1D8PQ6dH0mGgXcYdiEXB3kqFePww5FI6iSJQwRhEILhXf//NExLsTKx6cAMFEvP/4v/8y5+X7//rn//////z/TOOPff1/3f8t4bPKFKxLY22ghEbV5aqgcZqNOmxoeeeVo2NjUmKFJ40Pk4dg8E0RGY8koVhsRaMB8Ec3LgrUKSEU//NExMEaMyKUAHhavLoLmMj9L//X//v/z///ZP////9k/79Ndr1oaqauVcwqxmapxqMcaUJjU5TB2xAmpdjKiYeHRFGw2NYUnkhsOBQNCYIgfiSNidWOVLIJamM6bymV//NExKsWIyKcAAhWvOTGRjUia1pxLozdiWWBDBeQJQ/F2WBHQty/GSaAuPEpxlU9VxX88J//p/5DGOr////8v//q1GplTQz3RWxTl+9kMpdtSlDO2Z1ASCnOwYCFbATB//NExKURyxasAAhOuESCTVrtJAYMdlYG5JjQGo3AZggx4nYl1xU/EF5bkMlebkwsJIrrW1Cq9O/8PamBwVXJgDANHQAgHYmSXHy+N3qMzlP6/9PZs9evUrlWHcgkDhEu//NExLAYKwaYAMIEufo0sJggKGnVRr6Lbe6OX///7IkqqYwYYkDrUJIQICYcmBmxisKnRX0DW1DA409NqndXKZYBPZxF1uU79l1MTcLyTzMMB04oooyey2Oc/po6n33R//NExKIYkT6QANYYcGpooz6SjFVpSIn1gm0Ki/TdMimO50J1HRXRhw2brdzamBZC7wSmDo6kNnxpa4ZT1abq8ibjU0cgWeXgufwwn5N6lt6HuYhqJjAhg677QbFDXdtn//NExJIUeUaYAM4acEGv9CqbdZpJzFS6VsCmhANEQK/Il6z6Y2NwxHSsocbagEGDs1xqqxUtR3KeUKrYWkgWHeqCC1riGdJie0N0ms+tWkWNa8Vcqp+ACo2HnLIQhtdb//NExJMQyM6cAMYYcODcDdmibgXpFKoJOQM5QXOP1BgkTrwN6Tqriw8PrnG8hOPxVPVzDjUlzjDEjoLGOArIoqqjmdH3a7f/8oowo+pv/Qtkr0FUDM5jn1ZSVaMyYDeE//NExKISAO6EANZWcChabYFLdmywDua8hB7HMSOheG7u5xypOtW2UpwK99voye9q0TNRQJykIzgJdc0i//mZuJFUuY09RUE0Ml9DgnVVqmZgTmCkuPiAOMqI1uQOnTI4//NExK0SgW54ANPKlJwfjMYqShqztIDR+EE2Jv1vab2DVp2jM9CNOEICeuhOX/9HjAzsjdb3/Ut2hQsAvKwY6UmQeZiYkFDS+5QVKh5Xf9wBPRswHLFoOfmFvKe8V1I///NExLYSKXZ0ANsElOaY9CHYuN6tfcjPua5hfbH6HfqFhcjZ3/R6f/////SqnGbjhWcYUFwVFDDV4SKnXIDgWTnjbKtWhkNPiMGqWWvdVkhV0sabNLHBeBUU6rePRlnM//NExMARoWp0ANpElKcMYwdSqO7ee23/2rDHFiLyn9i0HeRRGhq0GzHAQt2aIDhbaWzChGRQ6GbmldlSBD7uaqpD0ZRSxRgWxo02TFijilo527JVHIo5SzrkqWc+lwqL//NExMwRSPJ0ANvMcB8e80rt9CpTIREhhhx4HKkZ6BQUiitgACpwtaa9FsYBKXEks5vacrTlc2AkArl1JKLVmjI+3LulY9OT2c/qiKPYGAQCSafVbLEgrK1////97EgE//NExNkSeW5oANpElAJFCb/xQV2X4igoKBfFW6KmAPhYUMpEZG2XDawIEXZ6bk0zEOfsQ/TMlqEHADARcqG4YRhxaf8Snpo6mllkU6wgwGJA+LORriZxkBsCwSJmXg5V//NExOIQiPpkANJMcNZxQbmQgUEykvQ+fsriZ1Ed6wGB4RFiRIcRLXztDwrSZM9upXXsQUCABBCEJxAjdyodyrmYMOfB9VCgQc/HxRL4IMEAIAgsPVUBdVRlAwQHGLxU//NExPIXQW44AMsMlR9/Z/B8Hw/+KQB66iuLRFTtFIyRoZKEYRgVCx7mm4qbTMzMOV2SjDAQkuRhTKzHydrMwoU2CtMxfCSYp0IFcmCthSaz/vQFUgoL+Vf4gtT+pgq6//NExOgVAT3wAEmGcJz/7cFBQq0UF/+Ubd//7Vv/6/oqAsO4ESoIyc96xqgZYBUSsjs59HCuAiAI4CEApyRVElKihppx34wpZhvziipJ8xzGuJUSWUaSSsP/////8USW//NExOcTENH0AGGGcFJEksKb29zS///+P//jTW0O5hsBIPCskGZ4vOF96Tn8YoYEHILEigEMDBgjkVFQ5/////9ZZWUEDBxyMjrNZ9lkMjJlYGFBOhl//////8llisDB//NExO0WkO3wAGIGcQKgmZjRXFRZv/AoVFBYPCcaoKiN0+Io3G4sHcmHbAcJVND4piEdHlYhx0dLFYhnR5WUzJ0/8jLsU0R0srCRxxDpYrERo/kaJ9lYhxwTCIhDhkE///NExOUUeI3wAGGETaTJp+YNf/+YNfFTQXoE+bwORAnXGlZ2xzgVHAFdFEV9zQviU9zQ84nu6u/AhO6YcXAERI/cI/5wM+ZpHIyLyxF+rsteWM8cP+Sf//zPER/D4Bge//NExOYTuiVQAGCGmJx8AiH5j4DgzN/HO8f+4H56HKCpPotyq/gsuYvrq2/YhcKEzRC4VhCQhQiZhCQhRCYQqIRCcyzfLNzStmMhtSzf/qWbmdW0f//MaUspWMYyhSoK//NExOoUIbVIAGDGlIhoM2C5Dcn/w7zpvmy+LUxBTUUzLjEwMFVVVVVVVVVVVVVVVVVVVVVVVVVVVVVVVVVVVVVVVVVVVVVVVVVVVVVVVVVVVVVVVVVVVVVVTEFNRTMu//NExOwVwOnsAHjGcTEwMFVVVVVVVVVVVVVVVVVVVVVVVVVVVVVVVVVVVVVVVVVVVVVVVVVVVVVVVVVVVVVVVVVVVVVVVVVVVVVVVVVVVVVVVVVVVVVVVVVVVVVVVVVV//NExOgUKmXgAHhEuVVVVVVVVVVVVVVVVVVVVVVVVVVVVVVVVVVVVVVVVVVVVVVVVVVVVVVVVVVVVVVVVVVVVVVVVVVVVVVVVVVVVVVVVVVVVVVVVVVVVVVVVVVVVVVV//NExKwAAANIAAAAAFVVVVVVVVVVVVVVVVVVVVVVVVVVVVVVVVVVVVVVVVVVVVVVVVVVVVVVVVVVVVVVVVVVVVVVVVVVVVVVVVVVVVVVVVVVVVVVVVVVVVVVVVVVVVVV\" type=\"audio/mpeg\" />\n",
              "                    Your browser does not support the audio element.\n",
              "                </audio>\n",
              "              "
            ]
          },
          "metadata": {}
        },
        {
          "name": "stdout",
          "output_type": "stream",
          "text": [
            "eqwrf\n"
          ]
        },
        {
          "output_type": "display_data",
          "data": {
            "text/plain": [
              "<IPython.lib.display.Audio object>"
            ],
            "text/html": [
              "\n",
              "                <audio  controls=\"controls\" autoplay=\"autoplay\">\n",
              "                    <source src=\"data:audio/mpeg;base64,//NExAARIpGUAUMQAP9EQqACE9EKgAhP0KkI3RpG6EZSE6EIoARleRlIRp/+p3nP53Q5/O85/O85/V5z/////nO6HPznOgGLfD4jD5R3UcKBhf901A2MGgF/snjqNx5E//NExA4VOk6QAZloAX+79Q0pEuOPNSAWoRgo+/KigeMv7GZuSh44MAHM/NEGdBgbZHNhhxhzv9NN+gUTc3NEzdD/oN033PlEoMpBlf/7f8wNDMoux1ciSAoaBjAcMitw//NExAwVmZasAdhIAHTh5aQGEUQp6R9nVeftrtLT9rRWFELjsKjVm5xq3syssYMqaHScT4dQJYodmRzXWmR6Qq6UxqM/4+v7+V6+7/msUAxIqfb2OpFhlan4dkglxLev//NExAgTYTqwAMvWcGEDITe57qCGcgs46JOiJ+wvJvWE33+kfr0TRnop3eSjE3TagA0OgdmSi9BZhJJCr+lDjl3lp/HgBxFihsSCxYsYEu/86VXHupKSDGkTHH5aCM3m//NExA0USTqoAMpYcdeKEKUWIze+IOhCv8JYeuRZM685TaPVmZZgntKpg/AtUheIhUUKQdMTN9UQif9jpKx36yB+NVyOdWziLMXW/7fv4TvKqqWrYrmAgHrRKuZ01Yyh//NExA4TsSKQANJYcPPtvDsoDmCMnBJrFBTD/0RM5//M5O16Zy3ztbPS7YrGLkJyevHLpdAkdntkg7IZ6tEh76EkcqExgNQ6WEsKZVxaCACXYdURBIy31DZJSEhMmIHB//NExBISeRpgAVwwACMgj8iFiWUjCoFMThxNaUzj7MSps/qWu/f3vu7WNud9XeZFZByyJqPN5b7JbFhgZKbf7rtffIqRdAx2QG4lQPbK5HgjyOSF+8iKdxr+XE7hLf0I//NExBsXUlqYAY9AAIiHh+WKnvjzHgwUBojhyUqraRNmL1FXzcjbp5jrSv744ja6ie6efvmfcZ20D2a/////f7u3ve4exjiIiHP//LNZQhUvKcwAVAFbFkjml4ABBCFA//NExBASmuqkAdIQAcikXE0t+6nXdL9TGR+5xV1LNfb///////3ZNJnr/70r9KaKt0t/W07nqd4QmcROc8mchDh3DwzOOkEKRVJQDsBSxdMB8DhJp0DFHl/1f/7h/WX///NExBgScxqkAJBKvf////7f/9LPbv6Lv6UXKXt+2QgkWS6hw7DxZJR5RIUGoMmEShQSAgnCAgoHDg4DiA6SOdBeAyLNiIltf/8j///X76////r///X/+3TTq/9s+e5///NExCESAyKkAFBUvOalT3PPJWc5DTTpckH5keHGoxKPCQfuMiAcQ0fEKhQjcRCIMA1EpjeX//////gy//6/4///////v/+r6dZ7k2Y8cnq/RGRmPu85nIFDRoaJSxew//NExCwRcyKwAAhOvNxLFBMbg+HhwHgDAgEwrLgEEReOjoWBYJBa9/DMwDIYkdgnJmBnJP70rHlgwGDoAPXgQAAIC///9qf////7Km3//6/VilRZdP810dyl6CpSs7YV//NExDkQswa8AHhEubvQCFAzOFKirBrXfxlAOTkP3JkYJPYoYbpLBPgWZqYInBZbVIl8qc4O9/5iaT0wFQMdHCoP5f3KN/7b/af+mnzjftbz9H21E4lP12vr/////xdG//NExEkSAUK0AMxWcLUZgOCGx5mSwDrhx7tDiQSwYzNLkBHtb1kNK6b9gpf6lUkOLKNj2AgKDyVxlW9NZgrf8ym/+0vNIVqxs0DQu//3JG78desyKYLpOxNGYqZPi92h//NExFQRaTK8AJxYcHZEYHdv/nEXdhp+Mt1aWmpKc0tTIZ/jRkJqCS2WTlFG5EocNg014di4iFgmdeLu+/QMo/QqpP1uoo+ZGqXOpq3NoyAw8o3qmeIGkVjww5uqqq4+//NExGEQiNLAAI4YcFh+M0tmRqb7JkOtCIEMvqiQ68T/D6e0QYOBl4lCWIWLBUUWEzo5My5SP/4tYFheywh8wigNfH0WYAVvcND4wcOIhlkdveSIcRjxb6gq1Jt07ay6//NExHESeOKwAMYecMqYVLgzVTzGoUbu2a+RzsLBKxz0OLXRLPTOf/+b+pbnP6VPBcLv2nbMDBoq2A2eHkc0U2Iukz0NOGhqW/xsRB1s/5nVZjIauONIPIETWOb9sX6r//NExHoSMY6QANvOlD386I9Fzo7esZQLgKhX/FQaQ0ElVf0KFAUrAI+0gu0KqRzZsY2iBCWv5MFLoBBphwenzNRqvLmVLGgbPGruGU+BAIkAkizELanb7LHd4f5JeeWp//NExIQR2P58AOYWcCE1T++7qxR6waEpE6ho5IUDjpVBCwlR4BiGegEWzwohGEELdjUjoUJCliDGZbRFcSQL4YpOfOunafGELi0UlJ1osUDyk50vIPTXNK5oXET63Zmv//NExI8SQPZoAVswAEa161LN09jsWTsJLpfcBwA+QtU5Pq9WL+/49akP9PL/L/hv5NqQTYf+eH4D/Nj1ORWi22C+HqgKxwMtPKR/3Oh5O2sQUokOw9Dsee9g0MinEwgi//NExJkdGWJQAZpoARUn2QgR8AqHhMLD1dOs+zW3aiuR997+qY9R8dhyW7Kn+/1S/AjvYcbZIKlzgV/ddJx8jHDgw0wRFucsRQ0OBSHYLiCRGsWSbROY/+v3rmURUjLa//NExHcgIyqEAY9AAL2KdYMoPZ6KPJVicuhDtIKnFimKaAwiFQgYjBiA7Hw+TZIVz44rYXgS7gqBXnT0LiMUZ21gJ2JYJYOElzxxRgc1umkzakkklMyrosuulVUkv/fe//NExEkeEiZ8AdpoAZS8bNevWv0la2Zjl1IIO2miiiju3SWpFnPEmeDPUyCvl+371+UIKWa/cnuicBrDFWWvzDMPGAHhxDaZYDl1CyoYQGQXBuTWZQJrKLgF4GzqCrwd//NExCMa4baEAN4ElNYsZiKFPsKCMkj4xolpU7btbhrCbjd61S527ev5+emvJVXTb//vSRXYSBoKAAQho510cizqY6hACQM01psuNUPMCq///qQybpXLmUZBKD6RZ6n9//NExAoTAaqkAM4ElDbrNgGUpPG5QWdhmVJyDS1iuTBambEo2+sfchu7OHzl7cITNxuHN4VKTmXOZ63////8ius8OxFZf+9UVwTWN//rmdY5IyBNYFzhsw9QuqpoG1wL//NExBESAT6sAMZacGzhPEWoT7kdK77TH64+jZnKpXDd5lLEWYjBCgPYwMSkYnlpLWgurvbZv/+3NAGPQv3zs7X//QirrQxIPA5ZMhB1UZpBioNEuS+CEECZl8TcFqsx//NExBwSAT6kAMvWcNFFxrgmcTKvQsTUAEijWBECcgWk52q7ir4mPq+Jj//j5lr1Ho0R/5qe/2frvQO2U80Jqwpu5hkUCa+rMZpqwPe+tSU0KsqA2BZggYmMjwzy5TP1//NExCcRIK6UAMYeTEzuMPMO0kKFGxGeJaZD02MIvCfjv6P+yz+3///+he5F1ABojMZ64WDoFDwtVrf61owpoKFOVCRYqFHnzLxzpdcYdBYmD1JUAC4pVNPS0vLSAnS3//NExDUQwI6YAHlGTJm5KN3/OU8u5Tie7IYAAQeG4hn79vv262otPeqmUKRnPPjZsyK2apDM27Ku02FFFjSAM62Fg8pMFmOUCQqgwgRKc0JlSp308IliIVQLBRlJ8WSi//NExEUSCUqQAECGlHECNaoA8WVok90WI+u/RKdHDHci6tOmp+qKqucXCadJK0yqjce1OLobzcdZ3tO+rh9D/+6vnOH/jrwjHjOT8sfqduzP8k3gabJFsdeRigIm/erm//NExE8SYTqIADhGcQP1m1BN4/Y0L3LfcwiZQkMqL2ho5+ZZE8IJPibTQVfsh4BvV4iOBdOI25phDrTVO85MP+mzubd6nyF9h38w55m3o5ynam5WL4k5j1ZyeHArOPgk//NExFgSUTaMADhGcZDhkrQSolOtEIQQBguTiMGBWKxOQGH3OE4L0FkFhghLB+5zDA2ppJKWaWMVYupBX9jrEXN7s9/V//K1uxmbLiBml3Q8EKEgvE/4RIt7IE3A1BdK//NExGESGKacAHvSTBlaBucx+slQvl5aqIZbH4YX4GHe2ndu1Yhilyzp7X8rvKNW1Zc+Ki4jC3//63M+tanzBVdKs4ADIwdYRnUjemVKpZGnTENxYMeQEQqnehji1rzp//NExGsR4LqgAMYwTKHyG0XT3LszN4mi3R4y4o8z87rm/x9b3jPx9+2INQeF3Xf++7JqzEAnki4aIJzVBAzHUcFgzkTC60B1lZZPKLR4QGZNboFBXVqp7/DSA6GWOehi//NExHYSGRKsAMYecNIbTF1D/pL/6/EC3za3j1/hvcw4W5/T6n0h869X3KSTu6yNyrXkpih9uoSMntoeJY0UrAXW9fwd+BlRfREqHIAVWdvC4pa68XT+UrvPupm/NSrF//NExIATQR6oAI4ecDHOZ/udHrlfn4bPlXmFmQKMecLEUV2Y6qvn6vto+O6m449iTGlWre2i9WUgjCstnK+jy/CmEXB7U++BUbIPGTLdxS3NiCdRr4XqvTAqlAGmym0Q//NExIYYahKcAMYOmQxa11WUFHoXRDABOp2kZCZLXjq04FrTE92YorWdPj9egvsid6EI8pZCQHPmr3J9z3/jGe2+trPW9OXbMdf71/jvj9+zT8izXDh0Rf///9VKwtQa//NExHcc6g6UAMaMmGEhLaAZiU0ztj00i8hFkOxQ1PK+pqALlYKzTxZCX0iWr/xFozF8oedm2vIZFTMpIBRrg+29MOUmQNKUikDk92PaRWYkUJIBdFisar7f////9/MR//NExFYYga6YAM5QlDUyUyhwFMCK9Kdly8MZIVI5WC+xWalbCXwnbSYsjmiEY9W0/pxKyX3DSZxiCQ0u0viHtNo6lVCChiwuJ3ikJZgEwb+uIucR63g78PXw4Yq2TZeN//NExEcVESKcAMYecHrvyImsuX+1zRjnLZoqlFiPmNl/gjOUBtwAPVvVEPrHpOk0IlAIIRY6oaxW9BSvcakPTmS5gRbKy9USfWKD/ctKeLvbve27fl1vc+tWm8ZyCbv6//NExEUS+RacAMYecOj3JtdfR9eV7gA2hYpJSSOM0yfyG9yhCoZNbQ7j0Zp4EGZBXUbe3k3b/OJ2fhNelVm6izx92pXDB+7k/DNYYtrBWyWk3Td7T2/1/G+m/1qVgael//NExEwSESKYAM4YcMV3vfbGgVX4LYKy7aTAfD6EC5FpXSsCVOcdQzXX3K96fvn855z/44BRMTAJbL+oTB5d2WXEyiIwAPb/psSwmkNYsrOfITq0B3CTc/Fi+UYxRnat//NExFYQaRqUAMvMcHnZeS1ds7opi/q6DXOZ/2779zHffn9iWWDMx+XbMstx7DrlRIWex7/1xzEBCno/////+pMxYCdEycCyYosA2ybNcgGeWs4sKRFfVXVlZsSJI7iA//NExGcR+SKMAVgwAB0jvJChs03UQOmt0qmze2lUTVtPg0e57x3GhHHsQQZCKHgMSsoxFHtMVEUfS0uK398Lumntejc3zWigaIMiXW02tVq7z1Na1jb/+3dNUiO/j75f//NExHIgwqZ8AZlYAP391LbiN3//wgm9qvkK0cDKJEA3AEQB0GES5m3hhQ1DVbF9nz6DWta11/mmmm///6DoigtAaACACACACA0HwlDYO4NA0DR7iIGgVwaBmJTv//////NExEIRYQpgAc84AP//waUbMVdl9WWpliPX7UpgLDFo1d3Pxv+1Yza1ln35eafWL4xw1dV+HVDFVpe1AwehnNtS190Sj+2Rnl7Vck2r/4vblqkNBKXtq/UxNScSxHpB//NExE8QcSYIAHmGcESBxFW0koxT8UDrRQCtZPi6Q8EBQMRebAgZHAyKFzRjUbXi5gUVjz4pb91t6mXt9f6IotUC0GQcSfcKMPfL4ZNYJYshcTTLlrZHYlHMCD3JShLC//NExGAQEHoEAGGGSGWJLEQBBpJUJiUFiBoCGxCLISxRIWcaGivaROwritNikUU2XKq/3KUCRF4LEvssBXQ1aWEihwKgAjwk1R1lP2qhjCoKCgUBIyqSTNJIKBUBAUjt//NExHIRoJX4AHmGTAqAQSJBUFizaWhIeAipL/1/8keHjP//49XlisRjDC0DglYSOOIFoDiihhjR0ef2VlMhxxDpWUUMMLEBYTBs0aC2sVNGgGERUOGwTCIqaMmfzJp+//NExH4Q0JHUAHmGTGH//+YfmTX6DQDCIqHAfUwQiPBDR4IWGCxCIWIIjwQ4MTKRCxCIWLOGA5yiZSggWkMBzkCZSyB6RA85AmasgWsgekQMNTIFrIFrJmSmYasgWMBg//NExI0SMOVQABjGcJRYRRYRhg4IhYRRYdieE8JHZHhPDSmlyemly////////yuVppTSmkppTSm6K6KaUnBKLCKOIRUKTUmpMQwiNCNBIYWpMDdWNWcSGg6kQkBRIDJE//NExJcekx3EADGGvCQGEgMkQkCRIGQSCYCJBUBEQESCtgwkFUMGICgF////+pLR6QmAiQVATAESCqpMQU1FMy4xMDCqqqqqqqqqqqqqqqqqqqqqqqqqqqqqTEFNRTMu//NExG8SSJ24ABhGTDEwMKqqqqqqqqqqqqqqqqqqqqqqqqqqqqqqqqqqqqqqqqqqqqqqqqqqqqqqqqqqqqqqqqqqqqqqqqqqqqqqqqqqqqqqqqqqqqqqqqqqqqqqqqqq//NExHgAAANIAAAAAKqqqqqqqqqqqqqqqqqqqqqqqqqqqqqqqqqqqqqqqqqqqqqqqqqqqqqqqqqqqqqqqqqqqqqqqqqqqqqqqqqqqqqqqqqqqqqqqqqqqqqqqqqqqqqq//NExKwAAANIAAAAAKqqqqqqqqqqqqqqqqqqqqqqqqqqqqqqqqqqqqqqqqqqqqqqqqqqqqqqqqqqqqqqqqqqqqqqqqqqqqqqqqqqqqqqqqqqqqqqqqqqqqqqqqqqqqqq\" type=\"audio/mpeg\" />\n",
              "                    Your browser does not support the audio element.\n",
              "                </audio>\n",
              "              "
            ]
          },
          "metadata": {}
        },
        {
          "name": "stdout",
          "output_type": "stream",
          "text": [
            "erf\n"
          ]
        },
        {
          "output_type": "display_data",
          "data": {
            "text/plain": [
              "<IPython.lib.display.Audio object>"
            ],
            "text/html": [
              "\n",
              "                <audio  controls=\"controls\" autoplay=\"autoplay\">\n",
              "                    <source src=\"data:audio/mpeg;base64,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\" type=\"audio/mpeg\" />\n",
              "                    Your browser does not support the audio element.\n",
              "                </audio>\n",
              "              "
            ]
          },
          "metadata": {}
        },
        {
          "name": "stdout",
          "output_type": "stream",
          "text": [
            "ewrf\n"
          ]
        },
        {
          "output_type": "display_data",
          "data": {
            "text/plain": [
              "<IPython.lib.display.Audio object>"
            ],
            "text/html": [
              "\n",
              "                <audio  controls=\"controls\" autoplay=\"autoplay\">\n",
              "                    <source src=\"data:audio/mpeg;base64,//NExAAAAANIAUAAAP9nbOxGQa1n+/eBwGHMx/4eJAME/F0FP857/+s9v5zihCOHwGAcOF/nO9XYJxRzon/xQjH5jHDDob/d4qMKFCCf/6P4nZ3dhpQXGGbajyNqqXpc//NExFMRMdKEAZkoAKNsnNfRBRacZjB1Z1Jfjep6lJh+D6k3zjN76tW8OH74vfcO1JtTucRWQEyZyARptlQR0ZjYGw7324/ZS5x2yK2rc+nlG+f68SP/fMKamtp9eZGS//NExGEgukqYAdp4AJl5jGtY17/cTGb71fe8219/H///9PAqGf/1FGF1HCaz5NCPf+VMVR4dXypoKTmUkfFOx+dvw2OdetftbT/9W/a1RX2tzf4c03QtCVy5CWEsdSp1//NExDEYWd6oANLemMX0RywxRWJ47gM2Yqv9LfN9Z19YiZ1jHmrrGtMe6/Pz//7QBZZd/9IO//Tp0ulGKVW7nlVmhw2YYpAPd0wyLO9SVgx3+AHUYd+RDf5b6ygpuTkE//NExCIZqkakANNQuPmKaa1ICxGQPQxOF8QYR4cwkDykADCAZTOAMKEEDrDkk995qf8bfXdpXAwQdH0mPuHNub8q2r4///5x+j/7KidAfjHMSsv7hTpUHONw5bzroYmp//NExA4VOdakANHQmCJNIpzJEFQFPzgi+Vb3F7eUJeosehsMgRpiA+AwJTalcQ+M4gCi57pkuvaEn6VfpLFpqNZFpnvGUEFE6Cv72u//ufc9po3T5//HywgMlR81SJ7m//NExAwTucq0AMFMlOOr3BcOgXpZuv7ft/38XufPNZNbd/N2Ifpp2ZnzGbvv8IFhfP1/YIjZDLPAZAyCkGWHnMLhcmIIf4fyHqGHJOumICbqOjgTdR1n////8/youTPD//NExBAWasq4ADhSuNspXinxa9a56Oy9+LSVUgKrYRm07OSO6THnEiAG0RZ1sGoohUV3o+5Fla3vuEPGMs7pbfrPfrah/u3vr5ueVXVeH7XUx1akGVilfk///////yf7//NExAkTUiq4AAhMmXv/Xavn+t5ge4hCEq+1NlGkjQxwkPpxpxpZUJDWHDCEkkkUTi9jLGZGa9Zj081UFTsnbNX/Mux37tkHVGZ65cbhdq+llf//////u9yf/qfq692s//NExA4R8d68AABSmXranGdfl9hU12YNkTZsEC7nzfO3WzPq6rEnSYay0w2Upsgj+a+vY+eb/fpba9h+mCWI9+ytJATb2GH/////nKO7z73+Yvxrl2ZZiRyWab9zDYKp//NExBkRgdq8AABMmAIhbgeEibpCTDhxazvLHTb6Ux6SxJDYTJhxs05oA1Le0SEEUqY+8SnRdluYlS///////+u3r/+P3KgxLMzE2khZ3fGM1t1TCO1WDOkU0RHvkijj//NExCYSgdq4AAhSme7enmzhDrMyMChh24volNfDWHmu/3Pv//zZk/Vw/0vgPh9auv////mde63//fD/7W5i23Jz2yWiVFtfdVizjKNAcshHCemtabyC0UzDeKY7U0bm//NExC8SAdK8AABSlAiVBQTMAN4eMwiG37KGL3HFoexVxrErChrO0cwJjudiWuBuTzOzk/+n//+lAw9ab/vXfHdVG4klpo128t2/6Pmjk0bNBUDgMly5dF8ZqpbzMPsy//NExDoSAea0AGCMmIh5hNe7Jev+yxi3Ld3o5WlIqy20TZCQtgt5l6Xq0x59vcyzHcBna0b+fXiP2hqj14h6Qxb4gGSDoEypPs0nZdt9IPQjIpm7efpf/c+r+pN4PhTl//NExEUSWX6gAMmSldBb6nYq/CuKFUW+PQYwwhdBcHGCjCjkAtXCdvEBuRc7k75vM0jmcd7EmTohmMQ9jQtifPHrRGzzTK6x2ZVgTyKi3wTb+GuAhiJY7lWCUjWxZlQM//NExE4SWRakANIYcQlRY04Ozi0vCzR4KgcUhJDSdIPLay+jmbV1+9bezkISWFgQ4mHAITZMAkSZRLSiRLpkQmxd/6aBYjHXLliKf+9eMuQgS4MkzCjI3BwVtEUVv6VL//NExFcQaRKoAMtMcPdXKOJuhuW7WyXwwRt4m3ncbcB1uA2LMyQRt3DkKkmnixxg4o04PQ9EgoLPLfd//E8fxP/1NUg3OfFwkuprOdOZMew3JCA5BzA8rOTL4sMDWDLb//NExGgUUY6YANPQlCIqZ8F5WcJAXtNlnLZuY96Y4vygI0VPOrthNIrGWJwjqJJE4U5YfVBOGTReE41PFJhqt21/9s6tXPGrDGrpWVcEf2///6/qSso4iZ64PNSDKmbw//NExGkXQZKMANvOlB8GEIQckjDRNRAUpFiKfsiEVjSqEJx0uyRWrjfbuPly+3B/YgtBIWDr7Rorjx6ZN4cAzkFXUaJD1CwKjBwGMNApENp/fXpv0Vxit+CoOfsUz//9//NExF8YaZKAAN4KlJV8nV5QlGQ1hLQJJVmEwZjwCpUQGRrIuyNF44iSIbHqFM9BKTdFdfZ+aSAGvWom9VawPjUEt4R5RWZG2bEGFilra3u9a4rG3Dalc8ljBEO/+uoH//NExFAWIQqAAN5ecH+pH/////tBtR4FYKDQgFnyBzIDfBZNtgZlFUbOMI9hYgCRZK6lUpgWJJWPfKUq1mzMQceFF3AcCw7avmQSQGosIXdqvJn/d2G7kumt1jqIstTS//NExEoXgRZ0AN7ScGxzPv6RQBDadVDf///+Qf3JEqFKZEsYgMzEzxbIjCjdyVFQCgJpsUCliKmCmgLDofjCedyAg4GhEfGAV+6BKoDB7NTCwBg89noLak4p3NRtpftt//NExD8VuRpsAN7McP9d/rfGje+uVDv/XCD7vnP////JX9pcJDDgZqalJyguDghTMy4vGhtS5J05A12NxC50rsMBqUrMR4GFDtDpOY8yNByl6iQlU1T28Ga8THhKmRLO//NExDsTKJ5sAN5eTBAKEztJFv+iZFHf1//////vVTHiU0xkEfdY0xO5kgkiiLpojr9EMcFCt9CRnp+TVhg4KxEBsaDytSpjOEI1UKaPLt9/x350L1cp9+D/0xOVea9///NExEERiPZkANMMcP/////1qhACHAjAZwZnYukgYZhlgIAn5f1mQxtsUOLCetxzGkdSuZmt0nXB998MdDARqql/zLZqzAQp8FolOr/LTygaeDQhcDUFfWdxLVVUQ1NN//NExE0R6OpMAMvGcAQXbbZFNCJ7bGqropLzqeNtqqyDCh2bM1LMYkz82UQCQq0hDANLC5gUkEtcKRerMKMzFLGCVooLtoFW+6XopHr6937K1QWMnISjKmx4hFQGRAii//NExFgSUOH4AEpGcKsHIU6BrcpKR66nTtiEREd9r1IIIvFXFyBHGpUgg2+3rZO+pVVlT3611i7VKmK0frXjAQEKNV1AQUJIkZmqrfMzPmZz/7MzN/swEBATM2qqAiQ0//NExGEPoPoEAEjGcFQVO4iBo9gqCrvgsHf/g0Cp3/wVDawVOljqgaPfqfCXESpMQU1FMy4xMDCqqqqqqqqqqqqqqqqqqqqqqqqqqqqqqqqqqqqqqqqqqqqqTEFNRTMu//NExHUQyPHsABmGcDEwMKqqqqqqqqqqqqqqqqqqqqqqqqqqqqqqqqqqqqqqqqqqqqqqqqqqqqqqqqqqqqqqqqqqqqqqqqqqqqqqqqqqqqqqqqqqqqqqqqqqTEFNRTMu//NExIQAAANIAAAAADEwMKqqqqqqqqqqqqqqqqqqqqqqqqqqqqqqqqqqqqqqqqqqqqqqqqqqqqqqqqqqqqqqqqqqqqqqqqqqqqqqqqqqqqqqqqqqqqqqqqqqTEFNRTMu//NExKwAAANIAAAAADEwMKqqqqqqqqqqqqqqqqqqqqqqqqqqqqqqqqqqqqqqqqqqqqqqqqqqqqqqqqqqqqqqqqqqqqqqqqqqqqqqqqqqqqqqqqqqqqqqqqqqTEFNRTMu//NExKwAAANIAAAAADEwMKqqqqqqqqqqqqqqqqqqqqqqqqqqqqqqqqqqqqqqqqqqqqqqqqqqqqqqqqqqqqqqqqqqqqqqqqqqqqqqqqqqqqqqqqqqqqqqqqqqTEFNRTMu//NExKwAAANIAAAAADEwMKqqqqqqqqqqqqqqqqqqqqqqqqqqqqqqqqqqqqqqqqqqqqqqqqqqqqqqqqqqqqqqqqqqqqqqqqqqqqqqqqqqqqqqqqqqqqqqqqqqqqqqqqqq//NExKwAAANIAAAAAKqqqqqqqqqqqqqqqqqqqqqqqqqqqqqqqqqqqqqqqqqqqqqqqqqqqqqqqqqqqqqqqqqqqqqqqqqqqqqqqqqqqqqqqqqqqqqqqqqqqqqqqqqqqqqq//NExKwAAANIAAAAAKqqqqqqqqqqqqqqqqqqqqqqqqqqqqqqqqqqqqqqqqqqqqqqqqqqqqqqqqqqqqqqqqqqqqqqqqqqqqqqqqqqqqqqqqqqqqqqqqqqqqqqqqqqqqqq\" type=\"audio/mpeg\" />\n",
              "                    Your browser does not support the audio element.\n",
              "                </audio>\n",
              "              "
            ]
          },
          "metadata": {}
        },
        {
          "name": "stdout",
          "output_type": "stream",
          "text": [
            "ewrf\n"
          ]
        },
        {
          "output_type": "display_data",
          "data": {
            "text/plain": [
              "<IPython.lib.display.Audio object>"
            ],
            "text/html": [
              "\n",
              "                <audio  controls=\"controls\" autoplay=\"autoplay\">\n",
              "                    <source src=\"data:audio/mpeg;base64,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\" type=\"audio/mpeg\" />\n",
              "                    Your browser does not support the audio element.\n",
              "                </audio>\n",
              "              "
            ]
          },
          "metadata": {}
        },
        {
          "name": "stdout",
          "output_type": "stream",
          "text": [
            "erf\n"
          ]
        },
        {
          "output_type": "display_data",
          "data": {
            "text/plain": [
              "<IPython.lib.display.Audio object>"
            ],
            "text/html": [
              "\n",
              "                <audio  controls=\"controls\" autoplay=\"autoplay\">\n",
              "                    <source src=\"data:audio/mpeg;base64,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\" type=\"audio/mpeg\" />\n",
              "                    Your browser does not support the audio element.\n",
              "                </audio>\n",
              "              "
            ]
          },
          "metadata": {}
        },
        {
          "name": "stdout",
          "output_type": "stream",
          "text": [
            "ewrf\n"
          ]
        },
        {
          "output_type": "display_data",
          "data": {
            "text/plain": [
              "<IPython.lib.display.Audio object>"
            ],
            "text/html": [
              "\n",
              "                <audio  controls=\"controls\" autoplay=\"autoplay\">\n",
              "                    <source src=\"data:audio/mpeg;base64,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\" type=\"audio/mpeg\" />\n",
              "                    Your browser does not support the audio element.\n",
              "                </audio>\n",
              "              "
            ]
          },
          "metadata": {}
        },
        {
          "name": "stdout",
          "output_type": "stream",
          "text": [
            "gtg\n"
          ]
        },
        {
          "output_type": "display_data",
          "data": {
            "text/plain": [
              "<IPython.lib.display.Audio object>"
            ],
            "text/html": [
              "\n",
              "                <audio  controls=\"controls\" autoplay=\"autoplay\">\n",
              "                    <source src=\"data:audio/mpeg;base64,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\" type=\"audio/mpeg\" />\n",
              "                    Your browser does not support the audio element.\n",
              "                </audio>\n",
              "              "
            ]
          },
          "metadata": {}
        },
        {
          "name": "stdout",
          "output_type": "stream",
          "text": [
            "we\n"
          ]
        },
        {
          "output_type": "display_data",
          "data": {
            "text/plain": [
              "<IPython.lib.display.Audio object>"
            ],
            "text/html": [
              "\n",
              "                <audio  controls=\"controls\" autoplay=\"autoplay\">\n",
              "                    <source src=\"data:audio/mpeg;base64,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\" type=\"audio/mpeg\" />\n",
              "                    Your browser does not support the audio element.\n",
              "                </audio>\n",
              "              "
            ]
          },
          "metadata": {}
        },
        {
          "name": "stdout",
          "output_type": "stream",
          "text": [
            "eg\n"
          ]
        },
        {
          "output_type": "display_data",
          "data": {
            "text/plain": [
              "<IPython.lib.display.Audio object>"
            ],
            "text/html": [
              "\n",
              "                <audio  controls=\"controls\" autoplay=\"autoplay\">\n",
              "                    <source src=\"data:audio/mpeg;base64,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\" type=\"audio/mpeg\" />\n",
              "                    Your browser does not support the audio element.\n",
              "                </audio>\n",
              "              "
            ]
          },
          "metadata": {}
        },
        {
          "name": "stdout",
          "output_type": "stream",
          "text": [
            "4g\n"
          ]
        },
        {
          "output_type": "display_data",
          "data": {
            "text/plain": [
              "<IPython.lib.display.Audio object>"
            ],
            "text/html": [
              "\n",
              "                <audio  controls=\"controls\" autoplay=\"autoplay\">\n",
              "                    <source src=\"data:audio/mpeg;base64,//NExAARiF3kAUYYAAAACCGeyZMAAAIIECBAgQJkyadg+D7tQJg+D4Pg+CAIfLg+CAIAgCAJn/yEuD4Pn8Py58uD5+UDH8oCAIAOp1QIAg74IAgq35kQ6C59zCC3PV23//NExAwVqvpAAZo4AZDTTP+G4vWl/Fh55AbL5AwxyJIgQ+YYfnlmFL//hsdU04Wf2PPa8YUo85//mfj0qWc82d/+Y3/ypVjyEww0wz//9/nv+XMKfUOn3f9grNiAHgv8//NExAgSIkq0AYYoAFsKIeYhSCFGh8yh8QW2Rs9mWcpzndyMHHEBhAVxgmJgYSb9jIWyCouQyub/a9T8qd2au//s5nqulxU8Zu///R6VJCuBDdcnWmRJASDCE5Us1mnz//NExBIUqe6kAcwYAJbbLiCiVpEfS1K6HkcKuFTDhxAZiAlnDWgkyHbGtAVnenmUXLyJKXzyNaxZFxm2wplZ1y2PqZetDWMv6fnjupVat29R8QOOiEcInGnmCyDUIAhM//NExBIWESagAMMScKxkgRI6bHK+Dnn19+yYVe7ZH/vpuX1cPk+5qhJBU1DLMZGRxQmuj4eIARBufZvOgsEhowpVe+QMBJ5JlrdKiFLm//33Ronqw/vHTNuWceBZGtgy//NExAwVoTqoANMScFANoRMVMJdA0Ot+hOApyZXmLXzixOPpgu6XUMo0V2NhMCSJvQTLbSiBdZ9ecJqKYbTYkSL6GhGwALIg3QudPuKKazrADfV///9emscMaZYU4QRX//NExAgRaS6kANLWcAy6bBBY0sMWMAbToUR0zFEUNTl7xt/hM7+4nX+edcyIggppQlgEnm8H4v0j38W6+A9PaJZZ9T5HY4sPh3y1bzOILBgRyOIayYVShcYKhhgl0gcD//NExBUScT6IANvScHlPETWN3wSBV6+ZYU37UkXvyI4Tb7C+RjNg1OOI1kWTwjJY+0bW+14NSpc+FTMZvb/+pb+to6sSWyIYQ7EDTGcoQgJlzUdUrpQn3V8g8VhnOGVC//NExB4RmTaIANvQcN/0/xESC1vQCzr7EFvmha5lzZi3IuDEFV/X+baNBoZaZ//+j/////Lqk1yIBYAMUmgFzNbQ4CIANdNh5BTieoeLMtVgH+uFuJr0/zJLN8kFJ0eq//NExCoRiMaMANvEcIzYM6hhAmJHt8Rg0LP////+t//q04YtYAAITwxVfp66mDiHlBXQnwF0xVdJPnPyW9xgo+P/Wp83Z/7/8v////6v/bJ08/S3Rs7WU+jUIRGPzi6z//NExDYScx6gAHhKvJGzvkIxWD4uMDgoy1ONA4gIi8URCj0Qxum7f+ZVL5fy8v5frL+S//////2//q+jfLnnOpc1q9TZpzttMUosuOmih3KKTEwkGD4qGwmICwRB4Vkw//NExD8Rgx6sABBOvBhYbjrHDQxv+jr//8qL/m+Op/z//lS////07Lqy6e3d+23u83RDqbMfU1ZpUmNmPeWelh9ZYdFIinDgrGwDg0UEAPBuJI1CIdGgkjzKCP/r/+pq//NExEwRWyKsAAhOvH//8+v/////////6v30f0RrH2dmTc+qUoyLuxiEB8bjhQ0szvOJmljSRcWHjceB4VYcEgHw6JI1QHo3GRk0ESwVJT/+//////n+t//6df////1S//NExFkR+x6sABBOvOfSv76GfU+z3dTDTGU4sfZWmzGU85kMKTkKET0IIPCOgZHzUOKGiw4seDwQnkRFKDQhIoFMUUgcANwsCsaXoVYdbVNunEEpJ6fof77ZCIm///2Q//NExGQQ6xawAAhOuYen////3VP//2/VDfKV2R/ys6kd2QWFRhjKpqZixE5TBECoNHe8EWK1iGu3H2EaIHMXNprrAQZPOOOjdSoK8LWhqJ4831oFG1RkcZSloiYHkJok//NExHMSGvK0AHiKuQC+PNNmTHog1bGZvrUXEL0C+XzdlLOp+h9Ter9BtZ0lzzQHiB0Th9eln//1+NKAccu7/5YjoQAgXmvc2KGzwEkKL3ykQ1RkOH+ZlHH18Pr33/Bi//NExH0WwbqoANNalF7/UZhZ9fI+SYJk62fb5nZIcfeH0PV7wtxY+IEri+mve/3v/2+v/9f/2z8Zvmtq3veNDsAwMxYVMuOj4lqZ///1oFKV1z95NEGfQJLLecOAY5Ah//NExHUZYcawANPelEi33UxeICb6jpoTjdZD+zMPSsk5gnD+BayhZqhmFnSo4YbdKoseHiYdNUqdo1i7kgEjQ/bZ////+RWIyHU7FzDcJ+UtGTrubk7oqUb7w8NepqWl//NExGISIS60AMTQcJYsM41r94yqm1WA6Bscu3NLTCohAAgiKv9a12lY/5FTViigeAWD62jXZbW74SDqn8OqpYbhqKSkRPD2LGAGwzI+jyUeIUiw8Ohq8N4eUNzKhFje//NExGwSmTqYAVlAACQpE+H7m9ZVpjnhagQolGqUtx2tbm2B0ViPNXxE2xGi1J5tOCE8anBHvqV3A14h0Kg4KyqBI0dIc1Ygwb7//z90japS+pIz2TIoVZ+DhlBlcXc///NExHQgIcqcAZl4AP+0awCEwum0s9Kwkbq9nq06TBw/4WBk0ZlyQpg8khD9Z/t2FwwNvmqkQh23/eML7fhvz/T3ywHIQgURccR4DBVL1zIwKxjcXCEWPCWyoc9hbP////NExEYRwPKkAdl4AOnL+4rzMe0SZX5Ov6YLZ1hnSJo+xSIOQ3ORdtRiZnt3sM6OzEo9MMkOhcB8DcQJc2Qrj/PVcrSlZltaRDa3QnIKBxjf/0Wk18NiN9QJnsIBhR7z//NExFIRKOKoAM6ecJ/MmYSGQUwLkUF9/1SM5VM/ULo38d9/aaUQ681C+pcxTgjr8lJ8j6GW0FuT0EnaLVyQbXUKWCeo/////WrHtgZDAIUPyEQhnKEi2rAuwKpHsWyW//NExGASWNqgAM4ecD7E2rTEGOA7vKXU4/0mdx9YCiTYE0PIICKYiBjjpX1YQkyibmIcrtjj5ji9H/////L1xwuirLi2L5A2kTG0/zdnPp1JmAm8jPNrvbXCIQDIc5fL//NExGkR2NKkAM5ecKtWhihvR3xdS3EKEgClKUn4mateIecSGm4oG19Kz6rD23/////HKsftAolj9hO8GhP3KxDSnTCHjAx3VsvAmFA2EAZd1BOPZiPzvzfdglgdUqxi//NExHQRyOqoAM5ecBMZAQADH5eBT0IaBPElCHAOVxgis+v8m4v//ub/9dWxngBXUek/RrtNHjM+D51qoQyN1FHN8udw1KIe/OGrX1+/Me2qK2m0kotvDvH6wF89NvIu//NExH8SiP6kAM4YcDTczN2U8tx4Gzinf/mly7cAD7G0OY+G4ys8qd99RDMXrlMNjp7jodxrut/x+9z7Hen/C8mu7MIpoyIdIDBWEZShB++MltRIpMtJsU7OeUq//b////NExIcQYQqkAMYecP//+pWMclZxBPTJV+wWQEiSKkseA4HWC3IKdbCgh/v0V/ep7uqXflV+vfGydmuEnkLG1Mdq/v9q/nG5Zy5Eq06/WRv01bP/Z////qXlEh+A6ump//NExJgSESKgAMYScLj1Uz2VlWYLKtQcIexK+onah7CpD1rB/p7mWv1Td91u0rhK4cibYmOSidcLyQqnJTghBsij/5Ytv//0f//+kqRVHSlmVuO89yMojkhUBCpbhAWa//NExKIR4S6cAMZMcBdZzmG3r1yzqvh3eOX6+69WUpWQUAiAK/tvctlpWjIKdYKst6J1R4KNCaU3udtV///7/8iqH8mS6okHucY/XFCV5bG80UVEFdpE8+TA8EQFQuAj//NExK0R0NaMAMYWcBNwHAiYoLBkGpPCzkGECIxochcFIi7XV4eIgoY44VBqaHoZRr+YDwafUuYIIEQaCCKoTcXzz09u6Q90pAfjskRDAf/+I/6c+nervrxU8VNBQeJR//NExLgRiTJoAVgQAGF+BX4////3ve7fd97/QSIpSoUSLHWUVQA0h4PPgbS+y8JkAal3iMgtkUVJq4YFDGI/iOtfxxiuAICIMDFVSX8zCyUGx0hgfMAjOq5jq4AJhAcU//NExMQiKypoAY9AAFKAyQW5EBkWdVFf8iQs4NlAAGAoEc0QiD0wxF9kkUf+QcQqIRCfhyR0iURCUmSdE3EBb1///lAgxFiiNwWaXB9iziLitVkyTvUqCuKV/e2b3pHr//NExI4hCq4wAY2YAAFfM3UizRIuH3ifdyJiJyPhoqtqSI4YbFo6vsh10sS0tLpkLTGZNssE24ME2FQ4oShtQMoIRUypheZSaEYo0WOhX9LrTdOo+veg3QWIvS3NKto+//NExFwU6WIEAc8YAI3VFLAWDU4xQvQqEwcBUKSlqqqGFBhwpUBQCBgSUFd//vpMkN8Fm/mPBv4/kVFCrHMJZQskd8/vy/h2R0bwr8df/nQv/jDeUwT1EVhSzfCy/WQA//NExFsWeLn0AHpGTcCogFZI25+K11YKGBgwjoasoYEDQyZWUKCssBggYMRhkyMFUu+oVxUUb+vhUVFhZQsL+z//qFhWsVFOKizYsL1MQU1FMy4xMDBVVVVVTEFNRTMu//NExFQQKLlYAEjGTDEwMFVVVVVVVVVVVVVVVVVVVVVVVVVVVVVVVVVVVVVVVVVVVVVVVVVVVVVVVVVVVVVVVVVVVVVVVVVVVVVVVVVVVVVVVVVVVVVVVVVVTEFNRTMu//NExGYAAANIAAAAADEwMFVVVVVVVVVVVVVVVVVVVVVVVVVVVVVVVVVVVVVVVVVVVVVVVVVVVVVVVVVVVVVVVVVVVVVVVVVVVVVVVVVVVVVVVVVVVVVVVVVVTEFNRTMu//NExKwAAANIAAAAADEwMFVVVVVVVVVVVVVVVVVVVVVVVVVVVVVVVVVVVVVVVVVVVVVVVVVVVVVVVVVVVVVVVVVVVVVVVVVVVVVVVVVVVVVVVVVVVVVVVVVVTEFNRTMu//NExKwAAANIAAAAADEwMFVVVVVVVVVVVVVVVVVVVVVVVVVVVVVVVVVVVVVVVVVVVVVVVVVVVVVVVVVVVVVVVVVVVVVVVVVVVVVVVVVVVVVVVVVVVVVVVVVVTEFNRTMu//NExKwAAANIAAAAADEwMFVVVVVVVVVVVVVVVVVVVVVVVVVVVVVVVVVVVVVVVVVVVVVVVVVVVVVVVVVVVVVVVVVVVVVVVVVVVVVVVVVVVVVVVVVVVVVVVVVVVVVVVVVV//NExKwAAANIAAAAAFVVVVVVVVVVVVVVVVVVVVVVVVVVVVVVVVVVVVVVVVVVVVVVVVVVVVVVVVVVVVVVVVVVVVVVVVVVVVVVVVVVVVVVVVVVVVVVVVVVVVVVVVVVVVVV//NExKwAAANIAAAAAFVVVVVVVVVVVVVVVVVVVVVVVVVVVVVVVVVVVVVVVVVVVVVVVVVVVVVVVVVVVVVVVVVVVVVVVVVVVVVVVVVVVVVVVVVVVVVVVVVVVVVVVVVVVVVV\" type=\"audio/mpeg\" />\n",
              "                    Your browser does not support the audio element.\n",
              "                </audio>\n",
              "              "
            ]
          },
          "metadata": {}
        },
        {
          "name": "stdout",
          "output_type": "stream",
          "text": [
            "tg\n"
          ]
        },
        {
          "output_type": "display_data",
          "data": {
            "text/plain": [
              "<IPython.lib.display.Audio object>"
            ],
            "text/html": [
              "\n",
              "                <audio  controls=\"controls\" autoplay=\"autoplay\">\n",
              "                    <source src=\"data:audio/mpeg;base64,//NExAAPuAHUAUEAAP+D4Pg+D4OAgCAIBgHwff/1AmD4Pg+D4IAgCDv+UOQQBAHwfB8HwICAIO/5MEAQBAEATB8Hwf/9+D4OAgCAIP8y4st+f88XS/il7QIeZZ/vvD8q//NExBQV0lpAAZpQAJfxMIycWB8Z5IY0cHwsDz5hh+MRbAvGo//f5OVJBo5J/Y88y8spTKP/8z8iqSuTmnv/+Y3/zTWkhQaCH/5/mgpFiQfqhkmBBDeQAWSbcw+0AhBP//NExA8Uyd6kAYlYAJubGh0sIkxSwex3FIEYgCSmPtsYmfHeP4tceBDHo1ebWz/cyXUcR6a////2+xv98f//stj539Oh0Oql3fvfy5P//930VSo/SF2LvTJRJCUGLJia//NExA4UAd6cAcxAAMPT35717HRo0PTRo4VC4oI4ei4KYMD8QqKB6M8+1OtT2Zac1uNKivv69Zivm76iuu64evj6upuuk86wyt/////u6jNXAYi8OCmPx4kKI7hortWe//NExBEW6dqQAGPEmCd5W2nbIp1NiPiCwPlArksT4XM9Qjpckwvtd6y4q9Yn3lzPCKIFsUQMVnDBjFipU0lm1m26lYunS1WIe84M5kagO///9WvS8rrbSoNrXH3AgU6L//NExAgTuMqQANYecDEhAcCTREak69kzIYlGosvl1oEpn+d13kwKepLm4op0uENvRNy7A+kWBgNFDEKZR9n3iGnFhnjTB0qVcyHN///7ylIGrKoTqYX5QIVIDZMHToEg//NExAwUye6QANZEmSFdJpYBEH1cWQLQyHV5uwINZLZvxELMJ1TtRhIg6WM93H2Kpb2RbCgSXWtTb0wBg09vd+dx/9f1/9//////Q5sEN1ajgx5tKmg/nHCVBAyNGmuI//NExAsRuNaQAN5mcGphB+ewaDwK20pbkGF5YVsgE9/50JK+ye668RBGrb2zFIJ0KheQNgiITUxSSIcnzE9r3f//9ROAdsWN15qpdgoYkgaw/Ckk2TAF48hRQseeHFK2//NExBcSOMKMANbyTC0Xw15iATdywgkwJlv3YFbIYSyTVXssIRIfs3KQkAga3/6tfK56n///9Ld1X/////fQqVaWJEDCRgsHKchh8F4EEH9G6GbRVEKaGeN5bQ0Um2wt//NExCESOL6AAN8wTJIwzPZBQwplR/Gu6ZwfYUG/d/PEWXJ7/dUfuShTia9nQn//ctaabteGd40wgFQjYfViYkBGKnB6amPCTuwtiIbB7LeoLQFTtayzIBWnJTMUgIwA//NExCsR8NaMAN4wcE6k+zZVMELlU5MtHRHp5/cEuPW59e39n////1ZNpN/k6BWwlMJcwVRnhLMWcLpAE3jO4AeZvjjVi0zKBiH9fHFlyKznQLfdQWXWjEpTfe5x+ddN//NExDYR6PagANPwcKff3hKKKn7hUMydf/+U0endWrn6uodCanCKL1GJwEZQugQ8FyK7SkOXaYDn7nRgHv5y71uxMlphmeh8j9XTnKWZxv5pVMM2kbUIsGqYlVd/5bnF//NExEESqSKoAMyecDZTdVWyKvt90R3W9XU/lhZh98n9BYRkhPYRQCL+ALEz8wL582Mv3HP81ftROPvVHSQ+qgmBIaHIshR2XbR6LGaKcOIghFrDiwkCA05Bsh8QiM0q//NExEkSCSqwANLWcOf/wUHNQdDU8to3VDwKEp6h3G/6hBmlbiUc/c+lJtbr/826mW/vlmjr6wpAKB8ODlBIpZOmX3n4Wr1iohLRqHEXImFmFnCTfWSq5/5RERM5U/c7//NExFMSUTKwAMrYcCUuCYS6TAbyeCF2e0MGP6RSz+bXvMzNu7Nrz/7tYMrXoVJPNg+PUpwdnaWKl/Z3nVwItBwLvGA0xAPtWDSav6qk/8MBHHYrP8pHiMXhJlkDXEcC//NExFwSMTqoANJYcGQV6CYsz5ifd+nx98v/ZlD48LpiAfskbMFD9txMErrXXnLfXr5fy8j8nX+dKOK50Y1vzrP///qW1OUqQqqG+bqQWKuYkJw5T0DljFSna8lcw8CI//NExGYT0bKgANHSlLHtEcM+Kk8b/HvQab/+lxq2t0MnOWLFgzXHcWHVge4nrFk3r+Puv38xvfHvTP3SkXG5JGsKhWYxzEjI5tP/+A0ROcJLvF3FBGGSolqW97XQ8Op8//NExGkYYa6YANnelJpopukbEdgBMs9mQEAQCDqnOHWzmK3X2UvY3qWap0DUcRspBEcoKcJUbOk6J5M2QTddlmLW0Un1LRXu69ajE1ZAVd6///9P/pZTTVgd/EhDAdjp//NExFoUObKcAMlalK4aPP8/Bc8DNS+yfTsqPWqW98viuP973RS6lb06f6P0KAoFHCRzUM+IiqiLFSq/V1rDQaKkP/////+CqjEIIPsoguqd4N5h4VGxQuY2MwAAoCNC//NExFwRGS6EAVooACkYZAwsBhELyIIpsPAxeVgND6eHtdAlHn3Rw6eY81SQWqv2HlmnnNfLG29SHwrDDj6ag1G5ROfy9z/mGSoynSz7Zdvj9tTF7UDit2d023EdV187//NExGoh+yZQAZxYAJsNuOm9drLXTPb//HF/FzH8fxu74fE/FS5svuIzlzUCA0J5Tm5pzJv/L3tZaLtqZNjzVoKsndVkK02n10FvUgswRZNZus+ikXLW3ZI1MDGbpJD3//NExDUeIyqUAYtoACRKQt00KHtLizRJEe6lmo9SCP5mJIPYaxhwnH/5LvN6zd0Lpj0LxJnzJB1FjKT//9N1IMk2nTfl9FJSakDAvoIDgLE1HzEdJrf/////03Tq/U7O//NExA8UifawAcIoAUaa1lQDnIKOrFVBwkIMQRECCAhEg+LhwCjBGgkIC0cKOcoaaJOYcziS3YCgE2Cy/i93bQfTuwRp8fRFgMy+zufI4vWqmxcYB8r0ER8X60oD8VD+//NExA8UCeKsAHhMmJWP8m//58TEYxT3/23+p7o7nqeAVEUe/75medciICqcvHat7U7VP5qPr0clooaWenQq4OnoileW9bqi1xJQG72V1Y3XiAxRGqdbBoJteiqHpi0D//NExBETcTacAM4WcciVrne76jt2s6eX3t50Gv/PHOY2UehivyWE4kBgIEnSxV6+19wq/6mXTcwWHVnEkE2/51UKeaJ8X72hfGWx9CBi3szfYeyp4NMGE4CR4m4A0O8L//NExBYRISqkAMvQcIVV4Cxbw4vo8t4dvLvdvUWKLD8OVCQPVcfF6e9dxcTEJI1BGC5dznupsak8Zf6F7+AtilrJCDyqWHA/r+rAhwHGEiDptDWqXY3H9/rMOmZy3p+1//NExCQQ+M6kAMPScNZ5G1JAGA2ZQILDQ4FBRpl8RAwHC6f920g/T//////SuWVOkJdyqBbO1PKxDxZpBAdQbu3Ifw1He/K5DypS39UmX3f6a20DVIcsFC8kmzp4ydWp//NExDMPkMqgAMZScDcNUImG2X/+E3daasbjAwWFStJGNYk7QwehRA4qgMqwa1Hofybs49mZhM9Wn8vprO/bxjzI5mBeIS7Q3///3e167RZRiMPu/+WDr9P/////9Nia//NExEcRoTaUAM4QcGGTRAGN6PLLzMAKDoyID0DWmkAAyTrclV+xBTLu1q1rKlyw13L1accee0HYQCOjMiP70p73fzjlHhvDur/VGgBuj+vTO+ZBVEcg2PjmXWiUjzpk//NExFMQ+TaIAM4OcMl2VN0J0r3VplOJe2jNfp/+RihOj//7f9dldu3/6bf/ISi5KNkU57tfU8i2q7RZKnOcEVnKLgEQ9QFkVlLN2Rf9////Fr+v/882f+3//vz9NzG1//NExGIR4waYAGCEufU/adOdkrRj3OalKGZ55ybH5injRTjRYNRljaCcfHlMJjhIoXHBeCwIReBccHS6KgYf//+X///yn+///5/////6dta97Wqtpiz0qrWS7I6tPey1//NExG0SSxqYABBOvEY4kQoiD0saSkUnKOx5UV3KHj9x4LA4K5giBJJxqCMoPREi2MiU+gE3/3////9f//n/+f////7700+tO/dzV0uqpet1nup7TEPJyA9VNUxTpEqG//NExHYSYyKcAChUvAwHhhGSKPicRYNIxFwrINTyo8JUDMYBQoFQcTUG/9F////++U/r//+////9H/1/ocm9T9LzKMqWz5LRFZGO9bjhC5YdBcpooQw8aCkSxkUHDiCI//NExH8R2x6cABBUvD6nCMNB0uRHzThoAYIhigVv/f/1//8/////9f//79Lb89P/7L3Wb1ejvdzTLtWOHOrDhRXm2uscVVF6MTCosG4sB4BQbHgiePi4ZUgKRHGoWCgl//NExIoRWyKcAChOvI+Wahz/+evn///1s6////v//p/r///dP6seYejou2hqKZupqETirqe08084w0wwmaRF5AbDwOnE4nHCKAWGQXBMcSKC4SwfOCYHAHAXEsfPCX////NExJcRoyacAChOvP+f///////P/////////779//+/quZ39dv+6f5l5m4RkhhSEyEgqIosco0qnIUWHCoj0KARYBtBUo0FICgDwTYRQUA8aCwURQCb/7///+Uv//L///NExKMTQyKYABBOvP/////p/+b+3eyvelV/NoaznvNPU6fIKhpxVD3SYTMFQpB+pQw4IQcKNxHAOKCUNBHGg+OjUsiD5k4X/r//l/4T9fX///n///T+6U/+zorXb20r//NExKkSqx6cAAhQvDKmOpt36bmIPs8sXQxD5dDDkGxQuJQilhaJIjOJBAHoEBLB6XCYVi8eCgjBCCho0LxKQQT/Uxv9en0unpT9uzf/6cxb//6f7VuyHP/znpZF97nU//NExLEROxacAChOuXzF6zerG50+XImoeVYUE5ooLOPMPmmC8gAgCxMu54oJoSGo8hIdHmHDKgpMJ0G+jgSczFrIubY9KZPiQU8+zT/waKG0GLiD//U3luLBe0xbH//c//NExL8SoxqYAAhOvRtq4x9fDFWuv//4Cox4+49cZzFt///+9o8iuckmGPMmH1/WSv////amdscYrY+V1oLKqrS7gp18+fYjNzD/////+rzgOkrTPXzXNZlJyaCZTRSf//NExMcSkx6MAUI4AM1oUaWU5VYnWxRQpYsBRLPD7pW13qTCtBYCj0xg1wJAIDCMNliQbBUBHsS2MK/a0NyykSyzr1i8Grenttat0RHgaqPExcNX455YGoGLed0qAAwo//NExM8iOupkAZR4AO1RNodRkkceyGO3kwKPFOAb0BT16P/3LhHPXwVd7WyvtSrQM+4CCZApm5ceI7g71714UcMHvEavb1p/040RP/2rd+r0fev/5WAhQmFSVqAnREFX//NExJkQmDoIAcwYAINCUNCEBPiIRD3a/LDzp6s6HfOxLLBIOwVYs6oGhEeErlnQ7Er1nSwcETwVGO5Y8dkZZ+pbhEo86p+pM5zOczlAQ0U3XoH8hyfmIYhyWblcbl6B//NExKkSqHn4ABjGSeTJ6YAAAAEzAAAAjDwGAwhwcBgML0wgTtiBAghH/73d3cECCEd79kwGAyabRGwQAAAIQ9oRj3d+DyZMnd3dxEGECBAghfiMeyacOeTJk78X4IEC//NExLERcDHkABhGAAQIRv/u7u8/u7u7z/tBAgQJ34jHsmQQyOHvDx/ABUhRSCIIhklZ8GgaWDT5YGQVOxKDQNHohBUFTqxEDQNA0DJ3BUGvOwaBrgqCz/7OsGg7+r/+//NExL4iIt3QAMGMubBU7iIGgaxKCoKqBmBQBhTBujWd4cXESJuIJ3fQQSAAjcW8QXAMDzw/B2bx//7LRg/w/AiP//zzLCPzzPMgYGB/wEhnx82t6+eB0PzHgDg9G/8H//NExIgP2CnsABJSAHiA/B/HDwOB+bx9C4hISNpfF9FjSOM0Etmoet2f3KbwKAUWOJErBQEsiAUWJBWkgEs0jPolhyWzMyxHKr/zhqJyTkcapkoks0jFT+1POHScS2Z7//NExJsAAANIAAAAALGolEtxtBUjQnK7ErBgo1FtmCWHbMU8tJyTkc/OIwSSeZliKNU+Vs760iicSut+uRgks5KKTyOCvioJRUQyQW0BUttbc3NBAwSKh2f//+qIvVFR//NExO4UqJXgAGDGTRUX0RUdnVF/oqpv//7lMVFVFRUVFBglEor/oJK0VVVVU0000VDn/+0VVdNNNNVVTEFNRTMuMTAwVVVVVVVVVVVVVVVVVVVVVVVVVVVVTEFNRTMu//NExO4gatncAMGMuTEwMFVVVVVVVVVVVVVVVVVVVVVVVVVVVVVVVVVVVVVVVVVVVVVVVVVVVVVVVVVVVVVVVVVVVVVVVVVVVVVVVVVVVVVVVVVVVVVVVVVVVVVVVVVV//NExL8R6eE4AGCEmVVVVVVVVVVVVVVVVVVVVVVVVVVVVVVVVVVVVVVVVVVVVVVVVVVVVVVVVVVVVVVVVVVVVVVVVVVVVVVVVVVVVVVVVVVVVVVVVVVVVVVVVVVVVVVV//NExKwAAANIAAAAAFVVVVVVVVVVVVVVVVVVVVVVVVVVVVVVVVVVVVVVVVVVVVVVVVVVVVVVVVVVVVVVVVVVVVVVVVVVVVVVVVVVVVVVVVVVVVVVVVVVVVVVVVVVVVVV\" type=\"audio/mpeg\" />\n",
              "                    Your browser does not support the audio element.\n",
              "                </audio>\n",
              "              "
            ]
          },
          "metadata": {}
        },
        {
          "name": "stdout",
          "output_type": "stream",
          "text": [
            "retgrer\n"
          ]
        },
        {
          "output_type": "display_data",
          "data": {
            "text/plain": [
              "<IPython.lib.display.Audio object>"
            ],
            "text/html": [
              "\n",
              "                <audio  controls=\"controls\" autoplay=\"autoplay\">\n",
              "                    <source src=\"data:audio/mpeg;base64,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\" type=\"audio/mpeg\" />\n",
              "                    Your browser does not support the audio element.\n",
              "                </audio>\n",
              "              "
            ]
          },
          "metadata": {}
        },
        {
          "name": "stdout",
          "output_type": "stream",
          "text": [
            "wretg\n"
          ]
        },
        {
          "output_type": "display_data",
          "data": {
            "text/plain": [
              "<IPython.lib.display.Audio object>"
            ],
            "text/html": [
              "\n",
              "                <audio  controls=\"controls\" autoplay=\"autoplay\">\n",
              "                    <source src=\"data:audio/mpeg;base64,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\" type=\"audio/mpeg\" />\n",
              "                    Your browser does not support the audio element.\n",
              "                </audio>\n",
              "              "
            ]
          },
          "metadata": {}
        },
        {
          "name": "stdout",
          "output_type": "stream",
          "text": [
            "werg\n"
          ]
        },
        {
          "output_type": "display_data",
          "data": {
            "text/plain": [
              "<IPython.lib.display.Audio object>"
            ],
            "text/html": [
              "\n",
              "                <audio  controls=\"controls\" autoplay=\"autoplay\">\n",
              "                    <source src=\"data:audio/mpeg;base64,//NExAAQ+LnkAUYYAAAACCEdzyYAAAAIECBAggTJ3d3d2if/o7u7u7uIBA58HwcBA4UBAHwf+oMA+D4Pn/g/WD7xACBz6gQBCUB/wQ/lAxw+35lxpa89K4uNzil7QHqT//NExA8V0l5EAZpQAKP+G4vTQ/xMIzycoF/5IYzi8L4GgCz5hh+IsWB0VX/f6EZh6L/nnteRzGPOf/5n5EeVMYsql//zG/8wqQoxJIhJn/y/SEKwOuqNjQ4CBlswoshl//NExAoSsSKkAYlIAD0Sogwcrw1qUaWfC0yulUZBVKt8UHSeLeCFF7XFMoIGJz7DKaVuO+MWqOd7WE7WF8oRtHgKpB9I7xQcriV7v/+mBRdxVl2bU2VRKPIR2eZk8700//NExBIU2dqcAclAAGaaRyyinoebQiipOHg4cChqkuVOsk9ipTHRUTWUYiXfXMzFfN3fFdcIiOnp1V1N10lQPIBwFx5JDv0xM7p994xVFZ75jAkBNqMGzcHsbZE5SnL3//NExBEVSSakAEsYcJQHZKebbqxJ4+frlcILlw4L6+Pd/a5advlPrHSdi6vwNLto8hggpn2T0FAWMmBMgaAGvB8LmiQCHGCCWlL2Udv9l7f1qqv8zfAxZUIubzdFkTNL//NExA4VOS6oAM4YcPastlMo1W1qecYWXThVe5bC4UB8a+w+jKxmUwOrjDokl9bezcpTtu7+26Ztea6uynzBpAeLGXOODgsiEWmewJeYXQ5o8KtT6BTAhcFlnnUTIIdx//NExAwTwTqsAJ4kcByxrTJsYwXOrWui7FJRjCRsJADGgU+kAyQDsRYSsXiwH5FO1jAiaXLxU8pIdZgzWUT7qsgZpvn33PERSLGO4umn6JVBuHVBUanUmCTQu82fdAFY//NExBASaYawAJ5KlJNm12zcCrjv0uMdj/Q5iz+pUQHFvJi5jQNKu6/8qwf9Rf3FOhh3Uo7Q7AcfqUX9xd8xhR0polRH6Up+Zhg8F1NrBNob8aeVySidE7fvSssGGxwN//NExBkRWYawAJ4KlFdbFAAosX1VkrNwkte5VfeLtTw5+64G7oHvRfv2UWTJDjyEYU1yPrF3VultVct/+beEy72eFOFFrPoss5YFVTdFluMg0jtdxsy8P27U9nYVlLiQ//NExCYRUVK0AMYKlFaubUfVd3/+C+l4gZmon0+ftBys5woVRi31vap8s6XV5+tyQQcUln/YACnG+7zbYAYuL29zTAAkLk4ZxcQvQHUt+zNrTL81rM7BiXL3a/cog7vI//NExDMSgU6wAMYKlD9yCBfcvs/kFnQggBmNAd1cuTBpBzXpw/9TIlKQS/WQoItDIM/gALISSvdr5pXwnOZdgCrUqkf34g0V1aWw6aAstU21/OIRWM4+oGCFPIQ7dPv2//NExDwR+Uq0AMYElDFLgzAxJw+d2RVMTOa3Wlg2WWzVlhZlFD08BrE6gyadneSpVNrGJ+CCLFBiNRLEKjQEMLGLSzJMv4h5IDidvHkOLoEA8dAgOtvpkxjDTETdC960//NExEcRyMq0AMPecFXL9VWhKhrcgERHZLZYgqAvTpgMA3zeQqG/JWSgk1SVpI3ScwVehapoOwPYxugQBeUCABMVQdbJhjZZ1Us92/f9RDT9Hgkj9jVq5vJkAd2Bc7Qy//NExFISGTq0AMPWcLXtLlbDAhUUNRBdjO36oX/ikaq0kga07MM35b9fFYY2WOikhIDYCkQbBwRnhGigZU9SrwrPtw++HVs+GySK/x1Vw/gyRQmmpAsZWKUohgvYRKeJ//NExFwSaSqwAMYScENMJ8rhissFiTrLqTD7EPXmza2frPM7hRIK4ocPHi+GWns1ExEPjNGuTgAklJk7Iooek1iSg2VxbaHQIZlDtgJwovUKKD1GuphGXGcnstLLNctk//NExGUQ+TaoAMPMcGtqM6Yr5/a3h18JW0kh5Oi21JJDmJHWuP+kk6WJGz3+t5Zle44bBRawBERRRdhCFNzMEk0vUXeePMaBisZRjGnfqqLvKqkup3VYcL/W/v//f5Xk//NExHQQwTacAMvWcMKgVFiAeLNplZ1uRgjaCwsw0ctEmAWPGrxGAQmsyr11L+tusY7GNTVLwBf8NOBQQCmDCInEIBkswRKNTTu0SpyFiAtEucgF5N3bFPhNyCzGPJ7e//NExIQUGUqMANPQlIbWoknLu3lH05fJhu6wRa4n55t7nTX/Gpm9o0M/3rCSLfbG/HrT//+hEghbwiBzrLIu68BtdocQADxuYGrG5m5hoU+JnUEQ0mW2/WE6Immbbgtz//NExIYW8TZwAN5YcGzjA1vbxxX1R5fiCXWQxtnYh/Mw1ulDXWDJ7BAtFU/Km3rFTGrg0Wd/qNF7blfepox5X//+jSoQEV0VBDXdMeF0gTE4EXRVWEAGc6rIE2mGuDJL//NExH0YGS5oAN5ScHALqT78BccI1VlvKkt3flNmoIIi0MuOL1aRm8arYhHcBFQmzb0ae2QkccAf/nbv/pcj///TRRYMp8qVmGKIHAEYApjo7ga+hwIBgLM6DFeaGhIQ//NExG8UaS5oAN4QcF7G4gqpYx0rmauLyWiUvjYkKRTkzIj9yM2JDgYBcQMRfxmIIGGv/66FKAUWBzAhAwSxBTSGCSNhoxG2BOww0kDCZakDUkP8ZKyivdldyxvWRMkQ//NExHARYS5gAOPGcAh4RJ+M2syMuFvmvsZdlps8W8f05TKoDM9H+/+lDrg5xMRRcWKl0xmGm9bms0Gllfz9sSHPhY/gkTtonJlS31oMEhAXbaPa3PdZbMFz4rfoXC8d//NExH0RsSJgAVswAGZ/kojN2jocXQgAPJ+///OUPWUKDxOOZKH///8M3PPJ76gfChIQAgBAi///////31///wImQAgJIem6gj///LAmfeLvCKoHSURAa/AUZAMQ/hIh//NExIkeynZ0AZhIAGVf4NpbWYv+h7O/ke0YoP/9IajfP6wnsk///jr0bNr71mFGk///Ucdy3uE7TqpxBrJB///8B+9tEJOyMCFvdQZkinl86Xv////uuoCsdHXHj+JX//NExGAhQuKIAYl4ASxLtPK5mYp4sGLmF/////+33UEF+3voijc+/v/91xbPzB/gwgoCwlFqN5vMZsfHKA8ePuKtv9mYG4D6TV2nFpKy2WO9svgbRY82X4pp1Xm2Wdql//NExC4bajoIAcxYAWatJQ7RJOkk6TYr5azpz2sfMXT2zTrp2qaviJO1MPmW7rrHabE5znXHLqjg9L6RhX8e4nUcfZLv+owRl03jHS0MmV5tXBSiAoLieKAjyYNpp6Ai//NExBMXKfH8AEmGmRNaz0d1TXZvyKmLBX2kf2ynf9Ah0YIc6aiYig41KXzeWGZF+Jaa5mRPlOPUf2QloaNPcnIxUbr0827Ha0/d7o3+runtrzftQ17KAogmVS61rnSI//NExAkRWPoAAEpGcEr5lA+lFXpL7Bl6kJUv8Y5mQMpZfb+WT8sE8JDWLAoMB4VReSCrdBtbGqFmmQk1Og5qXEmZT3dG2PYygfUQjqKeSrQWyJSyMAVhLBVQVXBI0RyJ//NExBYSWGnkAEmGKGAomPLO4NBUFTolcp5GJXFQ1yupdQ48o9OnoiPAqDRV14NPEp1bvEvWdgz4KhoRA0oGssoqqqlgYlVEHuqqqpppsp2mmmqqqZMDVRAxESqqr//2//NExB8RWATMAAjGARNNNIj//6qqoi5Kqqqmmn0ITTDA0pWmm3//sVVVX//8JpphqBNNNUxBTUUzLjEwMFVVVVVVVVVVVVVVVVVVVVVVVVVVVVVVVVVVVVVVTEFNRTMu//NExCwAAANIAAAAADEwMFVVVVVVVVVVVVVVVVVVVVVVVVVVVVVVVVVVVVVVVVVVVVVVVVVVVVVVVVVVVVVVVVVVVVVVVVVVVVVVVVVVVVVVVVVVVVVVVVVVTEFNRTMu//NExH8AAANIAAAAADEwMFVVVVVVVVVVVVVVVVVVVVVVVVVVVVVVVVVVVVVVVVVVVVVVVVVVVVVVVVVVVVVVVVVVVVVVVVVVVVVVVVVVVVVVVVVVVVVVVVVVVVVVVVVV//NExKwAAANIAAAAAFVVVVVVVVVVVVVVVVVVVVVVVVVVVVVVVVVVVVVVVVVVVVVVVVVVVVVVVVVVVVVVVVVVVVVVVVVVVVVVVVVVVVVVVVVVVVVVVVVVVVVVVVVVVVVV//NExKwAAANIAAAAAFVVVVVVVVVVVVVVVVVVVVVVVVVVVVVVVVVVVVVVVVVVVVVVVVVVVVVVVVVVVVVVVVVVVVVVVVVVVVVVVVVVVVVVVVVVVVVVVVVVVVVVVVVVVVVV\" type=\"audio/mpeg\" />\n",
              "                    Your browser does not support the audio element.\n",
              "                </audio>\n",
              "              "
            ]
          },
          "metadata": {}
        },
        {
          "name": "stdout",
          "output_type": "stream",
          "text": [
            "werg\n"
          ]
        },
        {
          "output_type": "display_data",
          "data": {
            "text/plain": [
              "<IPython.lib.display.Audio object>"
            ],
            "text/html": [
              "\n",
              "                <audio  controls=\"controls\" autoplay=\"autoplay\">\n",
              "                    <source src=\"data:audio/mpeg;base64,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\" type=\"audio/mpeg\" />\n",
              "                    Your browser does not support the audio element.\n",
              "                </audio>\n",
              "              "
            ]
          },
          "metadata": {}
        },
        {
          "output_type": "stream",
          "name": "stdout",
          "text": [
            "werfg\n",
            "Correct: 0 \n",
            " Your answer: []\n",
            "\n",
            "\n",
            "Incorrect: 19 \n",
            " Your answer: ['23', 'ewdfe', 'wer', 'eqwrf', 'erf', 'ewrf', 'ewrf', 'erf', 'ewrf', 'gtg', 'we', 'eg', '4g', 'tg', 'retgrer', 'wretg', 'werg', 'werg', 'werfg']\n"
          ]
        }
      ],
      "source": [
        "choice()"
      ]
    },
    {
      "cell_type": "code",
      "source": [],
      "metadata": {
        "id": "ToPqIuZ1idB8"
      },
      "execution_count": null,
      "outputs": []
    }
  ],
  "metadata": {
    "colab": {
      "provenance": [],
      "mount_file_id": "1OIURck0i_ax-Xgax4Q6ljeiFPqm2hvR1",
      "authorship_tag": "ABX9TyPKD7o/qb4Sb/zAxls5gUC0",
      "include_colab_link": true
    },
    "kernelspec": {
      "display_name": "Python 3",
      "name": "python3"
    },
    "language_info": {
      "name": "python"
    }
  },
  "nbformat": 4,
  "nbformat_minor": 0
}